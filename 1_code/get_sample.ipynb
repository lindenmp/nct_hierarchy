{
 "cells": [
  {
   "cell_type": "code",
   "execution_count": 1,
   "metadata": {},
   "outputs": [],
   "source": [
    "# Essentials\n",
    "import os, sys, glob\n",
    "import pandas as pd\n",
    "import numpy as np\n",
    "import nibabel as nib\n",
    "import scipy.io as sio\n",
    "from tqdm import tqdm\n",
    "\n",
    "# Stats\n",
    "import scipy as sp\n",
    "from scipy import stats\n",
    "import statsmodels.api as sm\n",
    "import pingouin as pg\n",
    "\n",
    "# Plotting\n",
    "import seaborn as sns\n",
    "import matplotlib.pyplot as plt\n",
    "plt.rcParams['svg.fonttype'] = 'none'"
   ]
  },
  {
   "cell_type": "code",
   "execution_count": 2,
   "metadata": {},
   "outputs": [
    {
     "name": "stderr",
     "output_type": "stream",
     "text": [
      "/Users/lindenmp/opt/anaconda3/envs/pfactor_gradients/lib/python3.7/site-packages/outdated/utils.py:18: OutdatedPackageWarning: The package pingouin is out of date. Your version is 0.3.9, the latest is 0.3.10.\n",
      "Set the environment variable OUTDATED_IGNORE=1 to disable these warnings.\n",
      "  **kwargs\n"
     ]
    }
   ],
   "source": [
    "sys.path.append('/Users/lindenmp/Google-Drive-Penn/work/research_projects/pathlength_tuning/1_code/')\n",
    "from func import set_proj_env, my_get_cmap, rank_int"
   ]
  },
  {
   "cell_type": "code",
   "execution_count": 3,
   "metadata": {},
   "outputs": [
    {
     "data": {
      "text/plain": [
       "('/Users/lindenmp/Google-Drive-Penn/work/research_projects/pfactor_gradients',\n",
       " '/Users/lindenmp/Google-Drive-Penn/work/research_projects/pfactor_gradients/0_data',\n",
       " '/Volumes/work_ssd/research_data/PNC/',\n",
       " '/Users/lindenmp/Google-Drive-Penn/work/research_projects/pfactor_gradients/2_pipeline',\n",
       " '/Users/lindenmp/Google-Drive-Penn/work/research_projects/pfactor_gradients/3_output')"
      ]
     },
     "execution_count": 3,
     "metadata": {},
     "output_type": "execute_result"
    }
   ],
   "source": [
    "parc_str = 'schaefer' # 'schaefer' 'lausanne' 'glasser'\n",
    "parc_scale = 400 # 200/400 | 125/250 | 360\n",
    "edge_weight = 'streamlineCount' # 'streamlineCount' 'volNormStreamline'\n",
    "set_proj_env()"
   ]
  },
  {
   "cell_type": "code",
   "execution_count": 4,
   "metadata": {},
   "outputs": [
    {
     "data": {
      "text/plain": [
       "'schaefer_400_streamlineCount_'"
      ]
     },
     "execution_count": 4,
     "metadata": {},
     "output_type": "execute_result"
    }
   ],
   "source": [
    "# output file prefix\n",
    "outfile_prefix = parc_str+'_'+str(parc_scale)+'_'+edge_weight+'_'\n",
    "outfile_prefix"
   ]
  },
  {
   "cell_type": "markdown",
   "metadata": {},
   "source": [
    "### Setup directory variables"
   ]
  },
  {
   "cell_type": "code",
   "execution_count": 5,
   "metadata": {},
   "outputs": [
    {
     "name": "stdout",
     "output_type": "stream",
     "text": [
      "/Users/lindenmp/Google-Drive-Penn/work/research_projects/pfactor_gradients/2_pipeline\n"
     ]
    }
   ],
   "source": [
    "print(os.environ['PIPELINEDIR'])\n",
    "if not os.path.exists(os.environ['PIPELINEDIR']): os.makedirs(os.environ['PIPELINEDIR'])"
   ]
  },
  {
   "cell_type": "code",
   "execution_count": 6,
   "metadata": {},
   "outputs": [
    {
     "name": "stdout",
     "output_type": "stream",
     "text": [
      "/Users/lindenmp/Google-Drive-Penn/work/research_projects/pfactor_gradients/2_pipeline/0_get_sample/out\n"
     ]
    }
   ],
   "source": [
    "outputdir = os.path.join(os.environ['PIPELINEDIR'], '0_get_sample', 'out')\n",
    "print(outputdir)\n",
    "if not os.path.exists(outputdir): os.makedirs(outputdir)"
   ]
  },
  {
   "cell_type": "code",
   "execution_count": 7,
   "metadata": {},
   "outputs": [
    {
     "name": "stdout",
     "output_type": "stream",
     "text": [
      "/Users/lindenmp/Google-Drive-Penn/work/research_projects/pfactor_gradients/3_output/figs\n"
     ]
    }
   ],
   "source": [
    "figdir = os.path.join(os.environ['OUTPUTDIR'], 'figs')\n",
    "print(figdir)\n",
    "if not os.path.exists(figdir): os.makedirs(figdir)"
   ]
  },
  {
   "cell_type": "code",
   "execution_count": 8,
   "metadata": {},
   "outputs": [],
   "source": [
    "# Parcellation specifications\n",
    "if parc_str == 'schaefer':\n",
    "    # Names of parcels\n",
    "    parcel_names = np.genfromtxt(os.path.join(os.environ['PROJDIR'], 'figs_support/labels/schaefer' + str(parc_scale) + 'NodeNames.txt'), dtype='str')\n",
    "    num_parcels = parcel_names.shape[0]\n",
    "    \n",
    "    scdir = os.path.join(os.environ['DERIVSDIR'], 'processedData/diffusion/deterministic_20171118')\n",
    "    sc_name_tmp = 'bblid/*xscanid/tractography/connectivity/bblid_*xscanid_SchaeferPNC_' + str(parc_scale) + '_dti_' + edge_weight + '_connectivity.mat'\n",
    "elif parc_str == 'glasser':\n",
    "    parcel_names = np.genfromtxt(os.path.join(os.environ['PROJDIR'], 'figs_support/labels/glasser' + str(parc_scale) + 'NodeNames.txt'), dtype='str')\n",
    "    num_parcels = parcel_names.shape[0]\n",
    "\n",
    "    scdir = os.path.join(os.environ['DERIVSDIR'], 'processedData/diffusion/deterministic_dec2016', edge_weight, 'GlasserPNC')\n",
    "    sc_name_tmp = 'scanid_' + edge_weight + '_GlasserPNC.mat'"
   ]
  },
  {
   "cell_type": "markdown",
   "metadata": {},
   "source": [
    "# Load in demographic and symptom data"
   ]
  },
  {
   "cell_type": "code",
   "execution_count": 9,
   "metadata": {},
   "outputs": [
    {
     "name": "stdout",
     "output_type": "stream",
     "text": [
      "1599\n"
     ]
    }
   ],
   "source": [
    "# LTN and Health Status\n",
    "health = pd.read_csv(os.path.join(os.environ['DATADIR'], 'external/pncDataFreeze20170905/n1601_dataFreeze/health/n1601_health_20170421.csv'))\n",
    "# Protocol\n",
    "prot = pd.read_csv(os.path.join(os.environ['DATADIR'], 'external/pncDataFreeze20170905/n1601_dataFreeze/neuroimaging/n1601_pnc_protocol_validation_params_status_20161220.csv'))\n",
    "# T1 QA\n",
    "t1_qa = pd.read_csv(os.path.join(os.environ['DATADIR'], 'external/pncDataFreeze20170905/n1601_dataFreeze/neuroimaging/t1struct/n1601_t1QaData_20170306.csv'))\n",
    "# DTI QA\n",
    "dti_qa = pd.read_csv(os.path.join(os.environ['DATADIR'], 'external/pncDataFreeze20170905/n1601_dataFreeze/neuroimaging/dti/n1601_dti_qa_20170301.csv'))\n",
    "# Rest QA\n",
    "rest_qa = pd.read_csv(os.path.join(os.environ['DATADIR'], 'external/pncDataFreeze20170905/n1601_dataFreeze/neuroimaging/rest/n1601_RestQAData_20170714.csv'))\n",
    "# Demographics\n",
    "demog = pd.read_csv(os.path.join(os.environ['DATADIR'], 'external/pncDataFreeze20170905/n1601_dataFreeze/demographics/n1601_demographics_go1_20161212.csv'))\n",
    "# Brain volume\n",
    "brain_vol = pd.read_csv(os.path.join(os.environ['DATADIR'], 'external/pncDataFreeze20170905/n1601_dataFreeze/neuroimaging/t1struct/n1601_ctVol20170412.csv'))\n",
    "# Clinical diagnostic \n",
    "clinical = pd.read_csv(os.path.join(os.environ['DATADIR'], 'external/pncDataFreeze20170905/n1601_dataFreeze/clinical/n1601_goassess_psych_summary_vars_20131014.csv'))\n",
    "clinical_ps = pd.read_csv(os.path.join(os.environ['DATADIR'], 'external/pncDataFreeze20170905/n1601_dataFreeze/clinical/n1601_diagnosis_dxpmr_20170509.csv'))\n",
    "# GOASSESS Bifactor scores\n",
    "goassess = pd.read_csv(os.path.join(os.environ['DATADIR'], 'external/GO1_clinical_factor_scores_psychosis_split_BIFACTOR.csv'))\n",
    "# Cognition\n",
    "cnb = pd.read_csv(os.path.join(os.environ['DATADIR'], 'external/pncDataFreeze20170905/n1601_dataFreeze/cnb/n1601_cnb_factor_scores_tymoore_20151006.csv'))\n",
    "\n",
    "# merge\n",
    "df = health\n",
    "df = pd.merge(df, prot, on=['scanid', 'bblid']) # prot\n",
    "df = pd.merge(df, t1_qa, on=['scanid', 'bblid']) # t1_qa\n",
    "df = pd.merge(df, dti_qa, on=['scanid', 'bblid']) # dti_qa\n",
    "df = pd.merge(df, rest_qa, on=['scanid', 'bblid']) # rest_qa\n",
    "df = pd.merge(df, demog, on=['scanid', 'bblid']) # demog\n",
    "df = pd.merge(df, brain_vol, on=['scanid', 'bblid']) # brain_vol\n",
    "df = pd.merge(df, clinical, on=['scanid', 'bblid']) # clinical\n",
    "df = pd.merge(df, clinical_ps, on=['scanid', 'bblid']) # clinical\n",
    "df = pd.merge(df, goassess, on=['bblid']) # goassess\n",
    "df = pd.merge(df, cnb, on=['scanid', 'bblid']) # goassess\n",
    "\n",
    "print(df.shape[0])\n",
    "df.set_index(['bblid', 'scanid'], inplace = True)"
   ]
  },
  {
   "cell_type": "markdown",
   "metadata": {},
   "source": [
    "# Filter subjects"
   ]
  },
  {
   "cell_type": "code",
   "execution_count": 10,
   "metadata": {},
   "outputs": [
    {
     "name": "stdout",
     "output_type": "stream",
     "text": [
      "N after initial exclusion: 1445\n",
      "N after T1 exclusion: 1394\n",
      "N after Diffusion exclusion: 1100\n",
      "N after medication exclusion: 978\n"
     ]
    }
   ],
   "source": [
    "# 1) Primary sample filter\n",
    "df = df[df['healthExcludev2'] == 0]\n",
    "print('N after initial exclusion:', df.shape[0])\n",
    "\n",
    "# 2) T1 exclusion\n",
    "df = df[df['t1Exclude'] == 0]\n",
    "print('N after T1 exclusion:', df.shape[0])\n",
    "\n",
    "# 3) Diffusion exclusion\n",
    "df = df[df['b0ProtocolValidationStatus'] == 1]\n",
    "df = df[df['dti64ProtocolValidationStatus'] == 1]\n",
    "df = df[df['dti64Exclude'] == 0]\n",
    "print('N after Diffusion exclusion:', df.shape[0])\n",
    "\n",
    "# 4) Medicated\n",
    "df = df[df['psychoactiveMedPsychv2'] == 0]\n",
    "print('N after medication exclusion:', df.shape[0])"
   ]
  },
  {
   "cell_type": "code",
   "execution_count": 11,
   "metadata": {},
   "outputs": [
    {
     "data": {
      "text/plain": [
       "array([2., 1.])"
      ]
     },
     "execution_count": 11,
     "metadata": {},
     "output_type": "execute_result"
    }
   ],
   "source": [
    "df['dti64QAManualScore'].unique()"
   ]
  },
  {
   "cell_type": "code",
   "execution_count": 12,
   "metadata": {},
   "outputs": [
    {
     "data": {
      "text/plain": [
       "835"
      ]
     },
     "execution_count": 12,
     "metadata": {},
     "output_type": "execute_result"
    }
   ],
   "source": [
    "np.sum(df['averageManualRating'] == 2)"
   ]
  },
  {
   "cell_type": "code",
   "execution_count": 13,
   "metadata": {},
   "outputs": [
    {
     "data": {
      "text/plain": [
       "604"
      ]
     },
     "execution_count": 13,
     "metadata": {},
     "output_type": "execute_result"
    }
   ],
   "source": [
    "np.sum(df['dti64QAManualScore'] == 2)"
   ]
  },
  {
   "cell_type": "code",
   "execution_count": 14,
   "metadata": {},
   "outputs": [],
   "source": [
    "# Convert age to years\n",
    "df['ageAtScan1_Years'] = np.round(df.ageAtScan1/12, decimals=1)"
   ]
  },
  {
   "cell_type": "code",
   "execution_count": 15,
   "metadata": {},
   "outputs": [
    {
     "name": "stdout",
     "output_type": "stream",
     "text": [
      "There are 143 unique age points\n"
     ]
    }
   ],
   "source": [
    "# find unique ages\n",
    "age_unique = np.unique(df.ageAtScan1_Years)\n",
    "print('There are', age_unique.shape[0], 'unique age points')"
   ]
  },
  {
   "cell_type": "markdown",
   "metadata": {},
   "source": [
    "# Define discovery and replication splits"
   ]
  },
  {
   "cell_type": "code",
   "execution_count": 16,
   "metadata": {},
   "outputs": [
    {
     "name": "stdout",
     "output_type": "stream",
     "text": [
      "489\n",
      "Train: 489 Test: 489\n"
     ]
    }
   ],
   "source": [
    "df['disc_repl'] = np.zeros(df.shape[0]).astype(int)\n",
    "\n",
    "n=np.round(df.shape[0]*.5).astype(int)\n",
    "print(n)\n",
    "\n",
    "hold_out = df.sample(n=n, random_state=0, replace=False, axis=0).index\n",
    "df.loc[hold_out,'disc_repl'] = 1\n",
    "print('Train:', np.sum(df['disc_repl'] == 0), 'Test:', np.sum(df['disc_repl'] == 1))"
   ]
  },
  {
   "cell_type": "markdown",
   "metadata": {},
   "source": [
    "## Symptom dimensions"
   ]
  },
  {
   "cell_type": "code",
   "execution_count": 17,
   "metadata": {},
   "outputs": [
    {
     "name": "stdout",
     "output_type": "stream",
     "text": [
      "['Overall_Psychopathology', 'Psychosis_Positive', 'Psychosis_NegativeDisorg', 'AnxiousMisery', 'Externalizing', 'Fear']\n"
     ]
    }
   ],
   "source": [
    "# phenos = ['Overall_Psychopathology','Psychosis_Positive','F3_Executive_Efficiency','Overall_Speed']\n",
    "# phenos = ['Overall_Psychopathology','Psychosis_Positive','Psychosis_NegativeDisorg','AnxiousMisery','Externalizing','Fear','F1_Exec_Comp_Res_Accuracy','F3_Executive_Efficiency','Overall_Speed']\n",
    "phenos = ['Overall_Psychopathology','Psychosis_Positive','Psychosis_NegativeDisorg','AnxiousMisery','Externalizing','Fear']\n",
    "print(phenos)"
   ]
  },
  {
   "cell_type": "markdown",
   "metadata": {},
   "source": [
    "#### Check for Nans"
   ]
  },
  {
   "cell_type": "code",
   "execution_count": 18,
   "metadata": {},
   "outputs": [],
   "source": [
    "# for pheno in phenos:\n",
    "#     if df.loc[:,pheno].isna().any():\n",
    "#         print('NaN replacement: ', pheno)\n",
    "#         x = np.nanmedian(df.loc[:,pheno])\n",
    "#         df.loc[df.loc[:,pheno].isna(),pheno] = x"
   ]
  },
  {
   "cell_type": "markdown",
   "metadata": {},
   "source": [
    "#### Normalize"
   ]
  },
  {
   "cell_type": "code",
   "execution_count": 19,
   "metadata": {},
   "outputs": [],
   "source": [
    "# rank_r = np.zeros(len(phenos),)\n",
    "\n",
    "# for i, pheno in enumerate(phenos):\n",
    "#     # normalize regional metric\n",
    "# #     x = sp.stats.yeojohnson(df.loc[:,pheno])[0]\n",
    "#     x = rank_int(df.loc[:,pheno])\n",
    "#     # check if rank order is preserved\n",
    "#     rank_r[i] = sp.stats.spearmanr(df.loc[:,pheno],x)[0]\n",
    "#     # store normalized version\n",
    "#     df.loc[:,pheno] = x\n",
    "\n",
    "# print(np.sum(rank_r < 1))"
   ]
  },
  {
   "cell_type": "code",
   "execution_count": 20,
   "metadata": {},
   "outputs": [],
   "source": [
    "# df.loc[:,phenos].var()"
   ]
  },
  {
   "cell_type": "markdown",
   "metadata": {},
   "source": [
    "## Load in structural connectivity matrices"
   ]
  },
  {
   "cell_type": "code",
   "execution_count": 21,
   "metadata": {},
   "outputs": [],
   "source": [
    "# Missing data file for this subject only for schaefer 200\n",
    "if parc_scale == 200:\n",
    "    df.drop(labels = (112598, 5161), inplace=True)"
   ]
  },
  {
   "cell_type": "code",
   "execution_count": 22,
   "metadata": {},
   "outputs": [],
   "source": [
    "# subject filter\n",
    "subj_filt = np.zeros((df.shape[0],)).astype(bool)"
   ]
  },
  {
   "cell_type": "code",
   "execution_count": 23,
   "metadata": {},
   "outputs": [
    {
     "name": "stdout",
     "output_type": "stream",
     "text": [
      "['/Volumes/work_ssd/research_data/PNC/processedData/diffusion/deterministic_20171118/81287/20100114x2738/tractography/connectivity/81287_20100114x2738_SchaeferPNC_400_dti_streamlineCount_connectivity.mat']\n"
     ]
    }
   ],
   "source": [
    "A = np.zeros((num_parcels, num_parcels, df.shape[0]))\n",
    "for (i, (index, row)) in enumerate(df.iterrows()):\n",
    "    file_name = sc_name_tmp.replace(\"scanid\", str(index[1]))\n",
    "    file_name = file_name.replace(\"bblid\", str(index[0]))\n",
    "    full_path = glob.glob(os.path.join(scdir, file_name))\n",
    "    if i == 0: print(full_path)\n",
    "    if len(full_path) > 0:\n",
    "        mat_contents = sio.loadmat(full_path[0])\n",
    "        if edge_weight == 'streamlineCount':\n",
    "            a = mat_contents['connectivity']\n",
    "        elif edge_weight == 'volNormStreamline':\n",
    "            a = mat_contents['volNorm_connectivity']\n",
    "        if parc_str == 'lausanne' and parc_variant == 'cortex_only':\n",
    "            a = a[parcel_loc == 1,:]\n",
    "            a = a[:,parcel_loc == 1]\n",
    "        A[:,:,i] = a\n",
    "    elif len(full_path) == 0:\n",
    "        print(file_name + ': NOT FOUND')\n",
    "        subj_filt[i] = True\n",
    "        A[:,:,i] = np.full((num_parcels, num_parcels), np.nan)"
   ]
  },
  {
   "cell_type": "code",
   "execution_count": 24,
   "metadata": {},
   "outputs": [
    {
     "data": {
      "text/plain": [
       "0"
      ]
     },
     "execution_count": 24,
     "metadata": {},
     "output_type": "execute_result"
    }
   ],
   "source": [
    "np.sum(subj_filt)"
   ]
  },
  {
   "cell_type": "code",
   "execution_count": 25,
   "metadata": {},
   "outputs": [],
   "source": [
    "if any(subj_filt):\n",
    "    A = A[:,:,~subj_filt]\n",
    "    df = df.loc[~subj_filt]"
   ]
  },
  {
   "cell_type": "markdown",
   "metadata": {},
   "source": [
    "### Check if any subjects have disconnected nodes in A matrix"
   ]
  },
  {
   "cell_type": "code",
   "execution_count": 26,
   "metadata": {},
   "outputs": [],
   "source": [
    "# subject filter\n",
    "subj_filt = np.zeros((df.shape[0],)).astype(bool)"
   ]
  },
  {
   "cell_type": "code",
   "execution_count": 27,
   "metadata": {},
   "outputs": [],
   "source": [
    "for i in range(A.shape[2]):\n",
    "    if np.any(np.sum(A[:,:,i], axis = 1) == 0):\n",
    "        subj_filt[i] = True"
   ]
  },
  {
   "cell_type": "code",
   "execution_count": 28,
   "metadata": {},
   "outputs": [
    {
     "data": {
      "text/plain": [
       "60"
      ]
     },
     "execution_count": 28,
     "metadata": {},
     "output_type": "execute_result"
    }
   ],
   "source": [
    "np.sum(subj_filt)"
   ]
  },
  {
   "cell_type": "code",
   "execution_count": 29,
   "metadata": {},
   "outputs": [
    {
     "name": "stdout",
     "output_type": "stream",
     "text": [
      "(918, 238) (400, 400, 918)\n"
     ]
    }
   ],
   "source": [
    "if any(subj_filt):\n",
    "    A = A[:,:,~subj_filt]\n",
    "    df = df.loc[~subj_filt]\n",
    "print(df.shape, A.shape)"
   ]
  },
  {
   "cell_type": "code",
   "execution_count": 30,
   "metadata": {},
   "outputs": [
    {
     "data": {
      "text/plain": [
       "783"
      ]
     },
     "execution_count": 30,
     "metadata": {},
     "output_type": "execute_result"
    }
   ],
   "source": [
    "np.sum(df['averageManualRating'] == 2)"
   ]
  },
  {
   "cell_type": "code",
   "execution_count": 31,
   "metadata": {},
   "outputs": [
    {
     "data": {
      "text/plain": [
       "569"
      ]
     },
     "execution_count": 31,
     "metadata": {},
     "output_type": "execute_result"
    }
   ],
   "source": [
    "np.sum(df['dti64QAManualScore'] == 2)"
   ]
  },
  {
   "cell_type": "markdown",
   "metadata": {},
   "source": [
    "### Get streamline count and network density"
   ]
  },
  {
   "cell_type": "code",
   "execution_count": 32,
   "metadata": {},
   "outputs": [],
   "source": [
    "A_c = np.zeros((A.shape[2],))\n",
    "A_d = np.zeros((A.shape[2],))\n",
    "for i in range(A.shape[2]):\n",
    "    A_c[i] = np.sum(np.triu(A[:,:,i]))\n",
    "    A_d[i] = np.count_nonzero(np.triu(A[:,:,i]))/((A[:,:,i].shape[0]**2-A[:,:,i].shape[0])/2)\n",
    "df.loc[:,'streamline_count'] = A_c\n",
    "df.loc[:,'network_density'] = A_d"
   ]
  },
  {
   "cell_type": "code",
   "execution_count": 33,
   "metadata": {},
   "outputs": [
    {
     "data": {
      "text/html": [
       "<div>\n",
       "<style scoped>\n",
       "    .dataframe tbody tr th:only-of-type {\n",
       "        vertical-align: middle;\n",
       "    }\n",
       "\n",
       "    .dataframe tbody tr th {\n",
       "        vertical-align: top;\n",
       "    }\n",
       "\n",
       "    .dataframe thead th {\n",
       "        text-align: right;\n",
       "    }\n",
       "</style>\n",
       "<table border=\"1\" class=\"dataframe\">\n",
       "  <thead>\n",
       "    <tr style=\"text-align: right;\">\n",
       "      <th></th>\n",
       "      <th></th>\n",
       "      <th>timepoint_x</th>\n",
       "      <th>smrytrt_psychinpt</th>\n",
       "      <th>psychoactiveMedPsychv2</th>\n",
       "      <th>psychoactiveMedMedicalv2</th>\n",
       "      <th>incidentalFindingExclude</th>\n",
       "      <th>medicalratingExcludev1</th>\n",
       "      <th>healthExcludev2</th>\n",
       "      <th>ltnExcludev2</th>\n",
       "      <th>squeakycleanExclude</th>\n",
       "      <th>psychoactiveMedMedical</th>\n",
       "      <th>...</th>\n",
       "      <th>F2_Complex_Reasoning_Efficiency_Ar</th>\n",
       "      <th>F3_Memory_Efficiency_Ar</th>\n",
       "      <th>F4_Executive_Efficiency_Ar</th>\n",
       "      <th>F1_Slow_Speed_Ar</th>\n",
       "      <th>F2_Memory_Speed_Ar</th>\n",
       "      <th>F3_Fast_Speed_Ar</th>\n",
       "      <th>ageAtScan1_Years</th>\n",
       "      <th>disc_repl</th>\n",
       "      <th>streamline_count</th>\n",
       "      <th>network_density</th>\n",
       "    </tr>\n",
       "    <tr>\n",
       "      <th>bblid</th>\n",
       "      <th>scanid</th>\n",
       "      <th></th>\n",
       "      <th></th>\n",
       "      <th></th>\n",
       "      <th></th>\n",
       "      <th></th>\n",
       "      <th></th>\n",
       "      <th></th>\n",
       "      <th></th>\n",
       "      <th></th>\n",
       "      <th></th>\n",
       "      <th></th>\n",
       "      <th></th>\n",
       "      <th></th>\n",
       "      <th></th>\n",
       "      <th></th>\n",
       "      <th></th>\n",
       "      <th></th>\n",
       "      <th></th>\n",
       "      <th></th>\n",
       "      <th></th>\n",
       "      <th></th>\n",
       "    </tr>\n",
       "  </thead>\n",
       "  <tbody>\n",
       "    <tr>\n",
       "      <th>81287</th>\n",
       "      <th>2738</th>\n",
       "      <td>1</td>\n",
       "      <td>0</td>\n",
       "      <td>0</td>\n",
       "      <td>0</td>\n",
       "      <td>0</td>\n",
       "      <td>0</td>\n",
       "      <td>0</td>\n",
       "      <td>0</td>\n",
       "      <td>0</td>\n",
       "      <td>0</td>\n",
       "      <td>...</td>\n",
       "      <td>1.601508</td>\n",
       "      <td>0.830148</td>\n",
       "      <td>0.514279</td>\n",
       "      <td>0.391313</td>\n",
       "      <td>-0.105869</td>\n",
       "      <td>-0.156787</td>\n",
       "      <td>20.0</td>\n",
       "      <td>0</td>\n",
       "      <td>294415.0</td>\n",
       "      <td>0.064173</td>\n",
       "    </tr>\n",
       "    <tr>\n",
       "      <th>81754</th>\n",
       "      <th>2740</th>\n",
       "      <td>1</td>\n",
       "      <td>0</td>\n",
       "      <td>0</td>\n",
       "      <td>0</td>\n",
       "      <td>0</td>\n",
       "      <td>0</td>\n",
       "      <td>0</td>\n",
       "      <td>0</td>\n",
       "      <td>1</td>\n",
       "      <td>0</td>\n",
       "      <td>...</td>\n",
       "      <td>1.134216</td>\n",
       "      <td>0.677509</td>\n",
       "      <td>1.006161</td>\n",
       "      <td>1.177551</td>\n",
       "      <td>0.935206</td>\n",
       "      <td>1.335039</td>\n",
       "      <td>19.3</td>\n",
       "      <td>1</td>\n",
       "      <td>269473.0</td>\n",
       "      <td>0.067594</td>\n",
       "    </tr>\n",
       "    <tr>\n",
       "      <th>81903</th>\n",
       "      <th>2749</th>\n",
       "      <td>1</td>\n",
       "      <td>0</td>\n",
       "      <td>0</td>\n",
       "      <td>0</td>\n",
       "      <td>0</td>\n",
       "      <td>0</td>\n",
       "      <td>0</td>\n",
       "      <td>0</td>\n",
       "      <td>0</td>\n",
       "      <td>0</td>\n",
       "      <td>...</td>\n",
       "      <td>1.886781</td>\n",
       "      <td>1.634455</td>\n",
       "      <td>0.527513</td>\n",
       "      <td>0.783375</td>\n",
       "      <td>1.272440</td>\n",
       "      <td>0.333475</td>\n",
       "      <td>19.2</td>\n",
       "      <td>1</td>\n",
       "      <td>224511.0</td>\n",
       "      <td>0.060877</td>\n",
       "    </tr>\n",
       "    <tr>\n",
       "      <th>81043</th>\n",
       "      <th>2750</th>\n",
       "      <td>1</td>\n",
       "      <td>0</td>\n",
       "      <td>0</td>\n",
       "      <td>0</td>\n",
       "      <td>0</td>\n",
       "      <td>0</td>\n",
       "      <td>0</td>\n",
       "      <td>0</td>\n",
       "      <td>0</td>\n",
       "      <td>0</td>\n",
       "      <td>...</td>\n",
       "      <td>0.261837</td>\n",
       "      <td>0.306490</td>\n",
       "      <td>0.001343</td>\n",
       "      <td>0.748104</td>\n",
       "      <td>1.059229</td>\n",
       "      <td>0.370116</td>\n",
       "      <td>20.8</td>\n",
       "      <td>0</td>\n",
       "      <td>270865.0</td>\n",
       "      <td>0.065451</td>\n",
       "    </tr>\n",
       "    <tr>\n",
       "      <th>81939</th>\n",
       "      <th>2751</th>\n",
       "      <td>1</td>\n",
       "      <td>0</td>\n",
       "      <td>0</td>\n",
       "      <td>0</td>\n",
       "      <td>0</td>\n",
       "      <td>0</td>\n",
       "      <td>0</td>\n",
       "      <td>0</td>\n",
       "      <td>1</td>\n",
       "      <td>0</td>\n",
       "      <td>...</td>\n",
       "      <td>0.566979</td>\n",
       "      <td>1.243338</td>\n",
       "      <td>-0.545969</td>\n",
       "      <td>0.593303</td>\n",
       "      <td>0.802772</td>\n",
       "      <td>-0.940102</td>\n",
       "      <td>19.5</td>\n",
       "      <td>0</td>\n",
       "      <td>279333.0</td>\n",
       "      <td>0.062769</td>\n",
       "    </tr>\n",
       "  </tbody>\n",
       "</table>\n",
       "<p>5 rows × 240 columns</p>\n",
       "</div>"
      ],
      "text/plain": [
       "              timepoint_x  smrytrt_psychinpt  psychoactiveMedPsychv2  \\\n",
       "bblid scanid                                                           \n",
       "81287 2738              1                  0                       0   \n",
       "81754 2740              1                  0                       0   \n",
       "81903 2749              1                  0                       0   \n",
       "81043 2750              1                  0                       0   \n",
       "81939 2751              1                  0                       0   \n",
       "\n",
       "              psychoactiveMedMedicalv2  incidentalFindingExclude  \\\n",
       "bblid scanid                                                       \n",
       "81287 2738                           0                         0   \n",
       "81754 2740                           0                         0   \n",
       "81903 2749                           0                         0   \n",
       "81043 2750                           0                         0   \n",
       "81939 2751                           0                         0   \n",
       "\n",
       "              medicalratingExcludev1  healthExcludev2  ltnExcludev2  \\\n",
       "bblid scanid                                                          \n",
       "81287 2738                         0                0             0   \n",
       "81754 2740                         0                0             0   \n",
       "81903 2749                         0                0             0   \n",
       "81043 2750                         0                0             0   \n",
       "81939 2751                         0                0             0   \n",
       "\n",
       "              squeakycleanExclude  psychoactiveMedMedical  ...  \\\n",
       "bblid scanid                                               ...   \n",
       "81287 2738                      0                       0  ...   \n",
       "81754 2740                      1                       0  ...   \n",
       "81903 2749                      0                       0  ...   \n",
       "81043 2750                      0                       0  ...   \n",
       "81939 2751                      1                       0  ...   \n",
       "\n",
       "              F2_Complex_Reasoning_Efficiency_Ar  F3_Memory_Efficiency_Ar  \\\n",
       "bblid scanid                                                                \n",
       "81287 2738                              1.601508                 0.830148   \n",
       "81754 2740                              1.134216                 0.677509   \n",
       "81903 2749                              1.886781                 1.634455   \n",
       "81043 2750                              0.261837                 0.306490   \n",
       "81939 2751                              0.566979                 1.243338   \n",
       "\n",
       "              F4_Executive_Efficiency_Ar  F1_Slow_Speed_Ar  \\\n",
       "bblid scanid                                                 \n",
       "81287 2738                      0.514279          0.391313   \n",
       "81754 2740                      1.006161          1.177551   \n",
       "81903 2749                      0.527513          0.783375   \n",
       "81043 2750                      0.001343          0.748104   \n",
       "81939 2751                     -0.545969          0.593303   \n",
       "\n",
       "              F2_Memory_Speed_Ar  F3_Fast_Speed_Ar  ageAtScan1_Years  \\\n",
       "bblid scanid                                                           \n",
       "81287 2738             -0.105869         -0.156787              20.0   \n",
       "81754 2740              0.935206          1.335039              19.3   \n",
       "81903 2749              1.272440          0.333475              19.2   \n",
       "81043 2750              1.059229          0.370116              20.8   \n",
       "81939 2751              0.802772         -0.940102              19.5   \n",
       "\n",
       "              disc_repl  streamline_count  network_density  \n",
       "bblid scanid                                                \n",
       "81287 2738            0          294415.0         0.064173  \n",
       "81754 2740            1          269473.0         0.067594  \n",
       "81903 2749            1          224511.0         0.060877  \n",
       "81043 2750            0          270865.0         0.065451  \n",
       "81939 2751            0          279333.0         0.062769  \n",
       "\n",
       "[5 rows x 240 columns]"
      ]
     },
     "execution_count": 33,
     "metadata": {},
     "output_type": "execute_result"
    }
   ],
   "source": [
    "df.head()"
   ]
  },
  {
   "cell_type": "markdown",
   "metadata": {},
   "source": [
    "## Export"
   ]
  },
  {
   "cell_type": "code",
   "execution_count": 34,
   "metadata": {},
   "outputs": [],
   "source": [
    "header = ['disc_repl', 'squeakycleanExclude', 'ageAtScan1', 'ageAtScan1_Years', 'sex', 'race2', 'handednessv2',\n",
    "          'averageManualRating', 'dti64QAManualScore', 'restProtocolValidationStatus', 'restExclude', 'dti64MeanAbsRMS','dti64MeanRelRMS','dti64MaxAbsRMS','dti64MaxRelRMS','mprage_antsCT_vol_TBV',\n",
    "          'goassessSmryMood', 'goassessSmryMan', 'goassessSmryDep', 'goassessSmryEat', 'goassessSmryBul', 'goassessSmryAno', 'goassessSmryAnx', 'goassessSmryGad', 'goassessSmrySep',\n",
    "          'goassessSmryPhb', 'goassessSmrySoc', 'goassessSmryPan', 'goassessSmryAgr', 'goassessSmryOcd', 'goassessSmryPtd', 'goassessSmryPsy', 'goassessSmryDel', 'goassessSmryHal',\n",
    "          'goassessSmryHalAv', 'goassessSmryHalAs', 'goassessSmryHalVh', 'goassessSmryHalOh', 'goassessSmryHalTh', 'goassessSmryBeh', 'goassessSmryAdd', 'goassessSmryOdd', 'goassessSmryCon',\n",
    "          'goassessSmryPrimePos1', 'goassessSmryPrimeTot', 'goassessSmryPrimePos2', 'goassessSmryPsychOverallRtg', 'goassessDxpmr4',\n",
    "          'streamline_count', 'network_density'] + phenos\n",
    "df.to_csv(os.path.join(outputdir, outfile_prefix+'df.csv'), columns = header)"
   ]
  },
  {
   "cell_type": "markdown",
   "metadata": {},
   "source": [
    "### Export A matrices"
   ]
  },
  {
   "cell_type": "code",
   "execution_count": 35,
   "metadata": {},
   "outputs": [
    {
     "name": "stderr",
     "output_type": "stream",
     "text": [
      "100%|██████████| 918/918 [00:03<00:00, 287.34it/s]\n"
     ]
    }
   ],
   "source": [
    "for i in tqdm(np.arange(0,df.shape[0])):\n",
    "    label = str(df.iloc[i,:].name[0])+'_'+str(df.iloc[i,:].name[1])+'_'\n",
    "    np.save(os.path.join(outputdir, outfile_prefix+label+'A'), A[:,:,i])"
   ]
  },
  {
   "cell_type": "code",
   "execution_count": 36,
   "metadata": {},
   "outputs": [],
   "source": [
    "np.save(os.path.join(outputdir, outfile_prefix+'A'), A)"
   ]
  },
  {
   "cell_type": "code",
   "execution_count": 37,
   "metadata": {},
   "outputs": [
    {
     "name": "stdout",
     "output_type": "stream",
     "text": [
      "0.06\n"
     ]
    }
   ],
   "source": [
    "mean_spars = np.round(df.loc[df['disc_repl'] == 0,'network_density'].mean(),2)\n",
    "print(mean_spars)"
   ]
  },
  {
   "cell_type": "code",
   "execution_count": 38,
   "metadata": {},
   "outputs": [
    {
     "data": {
      "text/plain": [
       "array([0.04, 0.05, 0.06, 0.07, 0.08])"
      ]
     },
     "execution_count": 38,
     "metadata": {},
     "output_type": "execute_result"
    }
   ],
   "source": [
    "sparity = np.round([mean_spars-0.02, mean_spars-0.01,\n",
    "                    mean_spars,\n",
    "                    mean_spars+0.01, mean_spars+0.02],2)\n",
    "sparity"
   ]
  },
  {
   "cell_type": "code",
   "execution_count": 39,
   "metadata": {},
   "outputs": [
    {
     "name": "stdout",
     "output_type": "stream",
     "text": [
      "0.5644736842105263\n"
     ]
    }
   ],
   "source": [
    "A_disc = A[:,:,df['disc_repl'] == 0]\n",
    "A_disc_mean = np.mean(A_disc,2)\n",
    "print(np.count_nonzero(np.triu(A_disc_mean))/((A_disc_mean.shape[0]**2-A_disc_mean.shape[0])/2))"
   ]
  },
  {
   "cell_type": "code",
   "execution_count": 40,
   "metadata": {},
   "outputs": [
    {
     "name": "stdout",
     "output_type": "stream",
     "text": [
      "0.040100250626566414\n",
      "0.05012531328320802\n",
      "0.06015037593984962\n",
      "0.07017543859649122\n",
      "0.08021303258145364\n"
     ]
    }
   ],
   "source": [
    "for s in sparity:\n",
    "    A_disc = A[:,:,df['disc_repl'] == 0]\n",
    "    A_disc_mean = np.mean(A_disc,2)\n",
    "\n",
    "    thresh = np.percentile(A_disc_mean,100-(s*100))\n",
    "\n",
    "    A_disc_mean[A_disc_mean < thresh] = 0\n",
    "    print(np.count_nonzero(np.triu(A_disc_mean))/((A_disc_mean.shape[0]**2-A_disc_mean.shape[0])/2))\n",
    "\n",
    "    np.save(os.path.join(outputdir, outfile_prefix+'disc_mean_A_s'+str(int(s*100))), A_disc_mean)"
   ]
  },
  {
   "cell_type": "code",
   "execution_count": 41,
   "metadata": {},
   "outputs": [],
   "source": [
    "# A_disc = A[:,:,df['disc_repl'] == 0]\n",
    "# A_disc_mean = np.mean(A_disc,2)\n",
    "# print(np.count_nonzero(np.triu(A_disc_mean))/((A_disc_mean.shape[0]**2-A_disc_mean.shape[0])/2))\n",
    "\n",
    "# print(df.loc[df['disc_repl'] == 0,'network_density'].mean())\n",
    "# thresh = np.percentile(A_disc_mean,100-(df.loc[df['disc_repl'] == 0,'network_density'].mean()*100))\n",
    "# print(thresh)\n",
    "\n",
    "# A_disc_mean[A_disc_mean < thresh] = 0\n",
    "# print(np.count_nonzero(np.triu(A_disc_mean))/((A_disc_mean.shape[0]**2-A_disc_mean.shape[0])/2))\n",
    "\n",
    "# np.save(os.path.join(outputdir, outfile_prefix+'disc_mean_A'), A_disc_mean)"
   ]
  },
  {
   "cell_type": "code",
   "execution_count": 42,
   "metadata": {},
   "outputs": [],
   "source": [
    "# A_repl = A[:,:,df['disc_repl'] == 1]\n",
    "# A_repl_mean = np.mean(A_repl,2)\n",
    "# print(np.count_nonzero(np.triu(A_repl_mean))/((A_repl_mean.shape[0]**2-A_repl_mean.shape[0])/2))\n",
    "\n",
    "# print(df.loc[df['disc_repl'] == 1,'network_density'].mean())\n",
    "# thresh = np.percentile(A_repl_mean,100-(df.loc[df['disc_repl'] == 1,'network_density'].mean()*100))\n",
    "# print(thresh)\n",
    "\n",
    "# A_repl_mean[A_repl_mean < thresh] = 0\n",
    "# print(np.count_nonzero(np.triu(A_repl_mean))/((A_repl_mean.shape[0]**2-A_repl_mean.shape[0])/2))\n",
    "\n",
    "# np.save(os.path.join(outputdir, outfile_prefix+'repl_mean_A'), A_repl_mean)"
   ]
  },
  {
   "cell_type": "markdown",
   "metadata": {},
   "source": [
    "### Export sample for FC gradients"
   ]
  },
  {
   "cell_type": "code",
   "execution_count": 43,
   "metadata": {},
   "outputs": [
    {
     "name": "stdout",
     "output_type": "stream",
     "text": [
      "N after rs-fMRI exclusion: 775\n"
     ]
    }
   ],
   "source": [
    "# 4) rs-fMRI exclusion\n",
    "df_gradients = df[df['restProtocolValidationStatus'] == 1]\n",
    "df_gradients = df[df['restExclude'] == 0]\n",
    "print('N after rs-fMRI exclusion:', df_gradients.shape[0])"
   ]
  },
  {
   "cell_type": "code",
   "execution_count": 44,
   "metadata": {},
   "outputs": [],
   "source": [
    "df_gradients.to_csv(os.path.join(outputdir, outfile_prefix+'df_gradients.csv'), columns = header)"
   ]
  },
  {
   "cell_type": "markdown",
   "metadata": {},
   "source": [
    "# Plots"
   ]
  },
  {
   "cell_type": "code",
   "execution_count": 45,
   "metadata": {},
   "outputs": [],
   "source": [
    "if not os.path.exists(figdir): os.makedirs(figdir)\n",
    "os.chdir(figdir)\n",
    "sns.set(style='white', context = 'paper', font_scale = 1)\n",
    "cmap = my_get_cmap('pair')\n",
    "\n",
    "labels = ['Discovery', 'Replication']\n",
    "# phenos_label_short = ['Ov. Psych.', 'Psy. (pos.)', 'Psy. (neg.)', 'Anx.-mis.', 'Ext.', 'Fear']\n",
    "# phenos_label = ['Overall psychopathology','Psychosis (positive)','Psychosis (negative)','Anxious-misery','Externalizing','Fear']"
   ]
  },
  {
   "cell_type": "markdown",
   "metadata": {},
   "source": [
    "### Network density"
   ]
  },
  {
   "cell_type": "code",
   "execution_count": 46,
   "metadata": {},
   "outputs": [
    {
     "data": {
      "text/plain": [
       "<seaborn.axisgrid.FacetGrid at 0x164b38310>"
      ]
     },
     "execution_count": 46,
     "metadata": {},
     "output_type": "execute_result"
    },
    {
     "data": {
      "image/png": "[encoded data removed]",
      "text/plain": [
       "<Figure size 360x360 with 1 Axes>"
      ]
     },
     "metadata": {},
     "output_type": "display_data"
    }
   ],
   "source": [
    "sns.displot(df.loc[:,'network_density']*100)"
   ]
  },
  {
   "cell_type": "markdown",
   "metadata": {},
   "source": [
    "## Age"
   ]
  },
  {
   "cell_type": "code",
   "execution_count": 47,
   "metadata": {},
   "outputs": [
    {
     "name": "stderr",
     "output_type": "stream",
     "text": [
      "/Users/lindenmp/opt/anaconda3/envs/pfactor_gradients/lib/python3.7/site-packages/seaborn/distributions.py:2557: FutureWarning: `distplot` is a deprecated function and will be removed in a future version. Please adapt your code to use either `displot` (a figure-level function with similar flexibility) or `histplot` (an axes-level function for histograms).\n",
      "  warnings.warn(msg, FutureWarning)\n",
      "/Users/lindenmp/opt/anaconda3/envs/pfactor_gradients/lib/python3.7/site-packages/seaborn/distributions.py:2557: FutureWarning: `distplot` is a deprecated function and will be removed in a future version. Please adapt your code to use either `displot` (a figure-level function with similar flexibility) or `histplot` (an axes-level function for histograms).\n",
      "  warnings.warn(msg, FutureWarning)\n"
     ]
    },
    {
     "data": {
      "image/png": "[encoded data removed]",
      "text/plain": [
       "<Figure size 468x180 with 2 Axes>"
      ]
     },
     "metadata": {},
     "output_type": "display_data"
    }
   ],
   "source": [
    "f, axes = plt.subplots(1,2)\n",
    "f.set_figwidth(6.5)\n",
    "f.set_figheight(2.5)\n",
    "colormap = sns.color_palette(\"pastel\", 2)\n",
    "\n",
    "sns.distplot(df.loc[df['disc_repl'] == 0,'ageAtScan1_Years'], bins=20, hist=True, kde=False, rug=False, label = labels[0],\n",
    "             hist_kws={\"histtype\": \"step\", \"linewidth\": 2, \"alpha\": 1}, color=list(cmap[0]), ax = axes[0]);\n",
    "sns.distplot(df.loc[df['disc_repl'] == 1,'ageAtScan1_Years'], bins=20, hist=True, kde=False, rug=False, label = labels[1],\n",
    "             hist_kws={\"histtype\": \"step\", \"linewidth\": 2, \"alpha\": 1}, color=list(cmap[1]), ax = axes[0]);\n",
    "axes[0].set_xlabel('Age (years)');\n",
    "axes[0].set_ylabel('Number of participants');\n",
    "axes[0].set_xticks(np.arange(np.min(np.round(age_unique,0)), np.max(np.round(age_unique,0)), 2))\n",
    "\n",
    "# set width of bar\n",
    "barWidth = 0.25\n",
    "\n",
    "# Sex\n",
    "y_train = [np.sum(df.loc[df['disc_repl'] == 0,'sex'] == 1), np.sum(df.loc[df['disc_repl'] == 0,'sex'] == 2)]\n",
    "y_test = [np.sum(df.loc[df['disc_repl'] == 1,'sex'] == 1), np.sum(df.loc[df['disc_repl'] == 1,'sex'] == 2)]\n",
    "r1 = np.arange(len(y_train))+barWidth/2\n",
    "r2 = [x + barWidth for x in r1]\n",
    "axes[1].bar(r1, y_train, width = barWidth, color = cmap[0], label = labels[0])\n",
    "axes[1].bar(r2, y_test, width = barWidth, color = cmap[1], label = labels[1])\n",
    "axes[1].set_xlabel('Sex')\n",
    "# axes[1].set_ylabel('Number of participants')\n",
    "axes[1].set_xticks([r + barWidth for r in range(len(y_train))])\n",
    "axes[1].set_xticklabels(['Male', 'Female'])\n",
    "\n",
    "f.savefig('age_distributions.png', dpi = 150, bbox_inches = 'tight', pad_inches = 0)"
   ]
  },
  {
   "cell_type": "markdown",
   "metadata": {},
   "source": [
    "## Symptom dimensions"
   ]
  },
  {
   "cell_type": "code",
   "execution_count": 48,
   "metadata": {},
   "outputs": [
    {
     "data": {
      "image/png": "[encoded data removed]",
      "text/plain": [
       "<Figure size 180x288 with 1 Axes>"
      ]
     },
     "metadata": {},
     "output_type": "display_data"
    }
   ],
   "source": [
    "df_rc = pd.melt(df, id_vars = 'disc_repl', value_vars = phenos)\n",
    "\n",
    "f, ax = plt.subplots()\n",
    "f.set_figwidth(2.5)\n",
    "f.set_figheight(4)\n",
    "ax = sns.violinplot(y='variable', x='value', hue='disc_repl', data=df_rc, palette = cmap, split=True, scale='width', inner = 'quartile', orient = 'h')\n",
    "ax.get_legend().remove()\n",
    "ax.set_yticklabels(phenos)\n",
    "ax.set_ylabel('Psychopathology phenotypes')\n",
    "ax.set_xlabel('Phenotype score')\n",
    "f.savefig('symptoms_distributions.png', dpi = 150, bbox_inches = 'tight', pad_inches = 0)"
   ]
  }
 ],
 "metadata": {
  "kernelspec": {
   "display_name": "Python 3",
   "language": "python",
   "name": "python3"
  },
  "language_info": {
   "codemirror_mode": {
    "name": "ipython",
    "version": 3
   },
   "file_extension": ".py",
   "mimetype": "text/x-python",
   "name": "python",
   "nbconvert_exporter": "python",
   "pygments_lexer": "ipython3",
   "version": "3.7.9"
  }
 },
 "nbformat": 4,
 "nbformat_minor": 4
}
