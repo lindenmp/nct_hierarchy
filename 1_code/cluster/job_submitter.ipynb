{
 "cells": [
  {
   "cell_type": "markdown",
   "metadata": {},
   "source": [
    "# Submit jobs to cubic"
   ]
  },
  {
   "cell_type": "code",
   "execution_count": null,
   "metadata": {},
   "outputs": [],
   "source": [
    "import os\n",
    "import pandas as pd\n",
    "import numpy as np\n",
    "import subprocess\n",
    "import json\n",
    "\n",
    "# 1) basic setup\n",
    "py_exec = '/cbica/home/parkesl/miniconda3/envs/pfactor_gradients/bin/python'\n",
    "\n",
    "parc_scale = 400\n",
    "connectome_spec = 'schaefer_'+str(parc_scale)+'_streamlineCount'\n",
    "\n",
    "py_script = '/cbica/home/parkesl/research_projects/pfactor_gradients/1_code/cluster/compute_control_energy.py'\n",
    "\n",
    "indir = '/cbica/home/parkesl/research_projects/pfactor_gradients/2_pipeline/0_get_sample/out/'\n",
    "outputdir = '/cbica/home/parkesl/research_projects/pfactor_gradients/2_pipeline/2_compute_energy/out/'+connectome_spec\n",
    "if not os.path.exists(outputdir): os.makedirs(outputdir)\n",
    "\n",
    "\n",
    "# 2) subject ids\n",
    "# subjids = ['disc_mean_A_s4', 'disc_mean_A_s5', 'disc_mean_A_s6', 'disc_mean_A_s7', 'disc_mean_A_s8']\n",
    "# subjids = ['disc_mean_A_s6',]\n",
    "\n",
    "df_file = indir+connectome_spec+'_df.csv'\n",
    "df = pd.read_csv(df_file)\n",
    "df.set_index(['bblid', 'scanid'], inplace = True)\n",
    "df = df.loc[df['disc_repl'] == 0,:]\n",
    "print(df.shape)\n",
    "\n",
    "\n",
    "# 3) control params\n",
    "T_list = [1,]; print(T_list)\n",
    "B_list = ['x0xfwb',]; print(B_list)\n",
    "rho_list = [1,]; print(rho_list)\n",
    "n_subsamples = 20\n",
    "\n",
    "gradients_file = '/cbica/home/parkesl/research_projects/pfactor_gradients/2_pipeline/1_compute_gradient/out/'+connectome_spec+'_pnc_grads_template.txt'\n",
    "n_clusters = int(parc_scale/20); print(n_clusters)\n",
    "\n",
    "# control_list = ['minimum', 'minimum_nonh', 'minimum_taylor']; print(control_list)\n",
    "control_list = ['minimum','minimum_taylor']; print(control_list)\n",
    "\n",
    "split_clusters = False"
   ]
  },
  {
   "cell_type": "markdown",
   "metadata": {},
   "source": [
    "# 2) Compute energy"
   ]
  },
  {
   "cell_type": "markdown",
   "metadata": {},
   "source": [
    "### Submit"
   ]
  },
  {
   "cell_type": "code",
   "execution_count": null,
   "metadata": {},
   "outputs": [],
   "source": [
    "for control in control_list:\n",
    "    if control == 'minimum_taylor': mem_amount = '3'\n",
    "    else: mem_amount = '1'\n",
    "\n",
    "#     for subjid in subjids:\n",
    "#         subjid_short = subjid\n",
    "#         A_file = indir+connectome_spec+'_'+subjid+'.npy'\n",
    "    for s in np.arange(df.shape[0]):\n",
    "        subjid = str(df.iloc[s].name[0])+'_'+str(df.iloc[s].name[1])\n",
    "        subjid_short = 's'+str(df.iloc[s].name[0])\n",
    "        A_file = indir+connectome_spec+'_'+subjid+'_A.npy'\n",
    "        \n",
    "        for T in T_list:\n",
    "            for B_ver in B_list:\n",
    "                if split_clusters == False:\n",
    "                    subprocess_str = '{0} {1} -subjid {2} -A_file {3} -outputdir {4} -control {5} -T {6} -B_ver {7} -n_subsamples {8} -gradients_file {9} -n_clusters {10}' \\\n",
    "                    .format(py_exec, py_script, subjid, A_file, outputdir, control, T, B_ver, n_subsamples, gradients_file, n_clusters)\n",
    "\n",
    "                    name = subjid_short+'_'+control+str(T)+B_ver\n",
    "                    qsub_call = 'qsub -N {0} -l h_vmem={1}G,s_vmem={1}G -pe threaded 1 -j y -b y -o /cbica/home/parkesl/sge/ -e /cbica/home/parkesl/sge/ '.format(name, mem_amount)\n",
    "\n",
    "                    os.system(qsub_call + subprocess_str)\n",
    "                elif split_clusters == True:\n",
    "                    for i in np.arange(n_clusters):\n",
    "                        for j in np.arange(n_clusters):\n",
    "                            if i != j:\n",
    "                                subprocess_str = '{0} {1} -subjid {2} -A_file {3} -outputdir {4} -control {5} -T {6} -B_ver {7} -n_subsamples {8} -gradients_file {9} -n_clusters {10} -i {11} -j {12}' \\\n",
    "                                .format(py_exec, py_script, subjid, A_file, outputdir, control, T, B_ver, n_subsamples, gradients_file, n_clusters, i, j)\n",
    "\n",
    "                                name = subjid_short+'_'+control+str(T)+B_ver+'_'+str(i)+str(j)\n",
    "                                qsub_call = 'qsub -N {0} -l h_vmem={1}G,s_vmem={1}G -pe threaded 1 -j y -b y -o /cbica/home/parkesl/sge/ -e /cbica/home/parkesl/sge/ '.format(name, mem_amount)\n",
    "\n",
    "                                os.system(qsub_call + subprocess_str)"
   ]
  },
  {
   "cell_type": "markdown",
   "metadata": {},
   "source": [
    "### Assemble outputs"
   ]
  },
  {
   "cell_type": "code",
   "execution_count": null,
   "metadata": {},
   "outputs": [],
   "source": [
    "for subjid in subjids:\n",
    "    for control in control_list:\n",
    "        for T in T_list:\n",
    "            for B_ver in B_list:\n",
    "                file_label = subjid+'_'+control+'_T-'+str(T)+'_B-'+B_ver+'-g'+str(n_clusters)\n",
    "#                 file_label = subjid+'_'+control+'_T-'+str(T)+'_B-'+B_ver+'_rho-'+str(rho)+'-g'+str(n_clusters)\n",
    "\n",
    "                if control == 'minimum_taylor':\n",
    "                    E_tmp = np.load(os.path.join(outputdir,file_label+'_E_01.npy'))\n",
    "                    E = np.zeros((n_clusters, n_clusters, n_subsamples, E_tmp.shape[3]))\n",
    "                else:\n",
    "                    E = np.zeros((n_clusters, n_clusters, n_subsamples))\n",
    "                \n",
    "                for i in np.arange(n_clusters):\n",
    "                    for j in np.arange(n_clusters):\n",
    "                        if i != j:\n",
    "                            E[i,j,:] = np.load(os.path.join(outputdir,file_label+'_E_i'+str(i)+'j'+str(j)+'.npy'))\n",
    "                \n",
    "                np.save(os.path.join(outputdir,file_label+'_E_ij'), E)"
   ]
  },
  {
   "cell_type": "markdown",
   "metadata": {},
   "source": [
    "# 3) Compute adjacency matrix statistics"
   ]
  },
  {
   "cell_type": "code",
   "execution_count": null,
   "metadata": {},
   "outputs": [],
   "source": [
    "py_script = '/cbica/home/parkesl/research_projects/pfactor_gradients/1_code/cluster/compute_adj_stats.py'"
   ]
  },
  {
   "cell_type": "markdown",
   "metadata": {},
   "source": [
    "## individuals"
   ]
  },
  {
   "cell_type": "code",
   "execution_count": null,
   "metadata": {},
   "outputs": [],
   "source": [
    "outputdir = '/cbica/home/parkesl/research_projects/pfactor_gradients/2_pipeline/3_compute_adj_stats/out/'+connectome_spec\n",
    "if not os.path.exists(outputdir): os.makedirs(outputdir)"
   ]
  },
  {
   "cell_type": "code",
   "execution_count": null,
   "metadata": {},
   "outputs": [],
   "source": [
    "for i in np.arange(df.shape[0]):\n",
    "    subjid = str(df.iloc[i].name[0])+'_'+str(df.iloc[i].name[1])\n",
    "    subjid_short = str(df.iloc[i].name[0])\n",
    "    A_file = '/cbica/home/parkesl/research_projects/pfactor_gradients/2_pipeline/0_get_sample/out/'+connectome_spec+'_'+subjid+'_A.npy'\n",
    "\n",
    "    subprocess_str = '{0} {1} -subjid {2} -A_file {3} -gradients_file {4} -outputdir {5}'.format(py_exec, py_script, subjid, A_file, gradients_file, outputdir)\n",
    "\n",
    "    name = 's_'+subjid_short\n",
    "    qsub_call = 'qsub -N {0} -l h_vmem=1G,s_vmem=1G -pe threaded 1 -j y -b y -o /cbica/home/parkesl/sge/ -e /cbica/home/parkesl/sge/ '.format(name)\n",
    "\n",
    "    os.system(qsub_call + subprocess_str) "
   ]
  },
  {
   "cell_type": "markdown",
   "metadata": {},
   "source": [
    "# 4) Compute adjacency matrix statistics surrogates"
   ]
  },
  {
   "cell_type": "code",
   "execution_count": null,
   "metadata": {},
   "outputs": [],
   "source": [
    "py_script = '/cbica/home/parkesl/research_projects/pfactor_gradients/1_code/cluster/compute_adj_stats_gradient.py'"
   ]
  },
  {
   "cell_type": "markdown",
   "metadata": {},
   "source": [
    "## mean adj."
   ]
  },
  {
   "cell_type": "code",
   "execution_count": null,
   "metadata": {},
   "outputs": [],
   "source": [
    "storedir = '/cbica/home/parkesl/research_projects/pfactor_gradients/2_pipeline/4_compute_adj_stats_surrogates/store/'+connectome_spec\n",
    "if not os.path.exists(storedir): os.makedirs(storedir)\n",
    "\n",
    "centroids_file = '/cbica/home/parkesl/research_projects/pfactor_gradients/figs_support/labels/schaefer'+str(parc_scale)+'/Schaefer2018_'+str(parc_scale)+'Parcels_17Networks_order_FSLMNI152_1mm.Centroid_RAS.csv'\n",
    "    \n",
    "subjids = ['disc_mean_A_s6',]\n",
    "surr_list = ['spatial_wsp_grad_cmni', 'spatial_wssp_grad_cmni', 'spatial_wwp_grad_cmni',\n",
    "             'spatial_wsp_mni_cgrad', 'spatial_wssp_mni_cgrad','spatial_wwp_mni_cgrad',\n",
    "             'spatial_wsp_hybrid', 'spatial_wssp_hybrid','spatial_wwp_hybrid']\n",
    "# surr_list = ['standard', 'spatial_wwp', 'spatial_wsp', 'spatial_wssp', 'spatial_wwp_grad', 'spatial_wsp_grad', 'spatial_wssp_grad']\n",
    "# surr_list = ['spatial_wwp_grad_cmni', 'spatial_wwp_mni_cgrad']\n",
    "# surr_list = ['spatial_wsp_grad_cmni', 'spatial_wsp_mni_cgrad', 'spatial_wssp_grad_cmni', 'spatial_wssp_mni_cgrad']"
   ]
  },
  {
   "cell_type": "code",
   "execution_count": null,
   "metadata": {},
   "outputs": [],
   "source": [
    "for surr_type in surr_list:\n",
    "    for subjid in subjids:\n",
    "        A_file = indir+connectome_spec+'_'+subjid+'.npy'\n",
    "\n",
    "        subprocess_str = '{0} {1} -subjid {2} -A_file {3} -gradients_file {4} -n_clusters {5} -outputdir {6} -surr_type {7} -centroids_file {8}' \\\n",
    "        .format(py_exec, py_script, subjid, A_file, gradients_file, n_clusters, storedir, surr_type, centroids_file)\n",
    "\n",
    "        name = surr_type\n",
    "        qsub_call = 'qsub -N {0} -l h_vmem=1G,s_vmem=1G -pe threaded 1 -j y -b y -o /cbica/home/parkesl/sge/ -e /cbica/home/parkesl/sge/ -t 1:10000 '.format(name)\n",
    "\n",
    "        os.system(qsub_call + subprocess_str)"
   ]
  },
  {
   "cell_type": "markdown",
   "metadata": {},
   "source": [
    "### Assemble outputs"
   ]
  },
  {
   "cell_type": "code",
   "execution_count": null,
   "metadata": {},
   "outputs": [],
   "source": [
    "outputdir = '/cbica/home/parkesl/research_projects/pfactor_gradients/2_pipeline/4_compute_adj_stats_surrogates/out/'+connectome_spec\n",
    "if not os.path.exists(outputdir): os.makedirs(outputdir)\n",
    "\n",
    "num_surrogates = 10000\n",
    "\n",
    "for surr_type in surr_list:\n",
    "    for subjid in subjids:\n",
    "        tm_var_surr = np.zeros((n_clusters, n_clusters, num_surrogates))\n",
    "        smv_var_surr = np.zeros((n_clusters, n_clusters, num_surrogates))\n",
    "        joint_var_surr = np.zeros((n_clusters, n_clusters, num_surrogates))\n",
    "        \n",
    "        for surr_seed in np.arange(num_surrogates):\n",
    "            file_label = subjid+'_'+surr_type+str(surr_seed)+'_grad'+str(n_clusters)\n",
    "            adj_stats = np.load(os.path.join(storedir, file_label+'_adj_stats.npy'), allow_pickle = True)\n",
    "            adj_stats = adj_stats.item()\n",
    "\n",
    "            tm_var_surr[:,:,surr_seed] = adj_stats['tm_var']\n",
    "            smv_var_surr[:,:,surr_seed] = adj_stats['smv_var']\n",
    "            joint_var_surr[:,:,surr_seed] = adj_stats['joint_var']\n",
    "        \n",
    "        file_label = subjid+'_'+surr_type+'_grad'+str(n_clusters)\n",
    "        np.save(os.path.join(outputdir, file_label+'_tm_var_surr'), tm_var_surr)\n",
    "        np.save(os.path.join(outputdir, file_label+'_smv_var_surr'), smv_var_surr)\n",
    "        np.save(os.path.join(outputdir, file_label+'_joint_var_surr'), joint_var_surr)"
   ]
  },
  {
   "cell_type": "markdown",
   "metadata": {},
   "source": [
    "# 5) Compute minimum energy taylor optimized for replication dataset"
   ]
  },
  {
   "cell_type": "code",
   "execution_count": null,
   "metadata": {},
   "outputs": [],
   "source": [
    "df_file = indir+connectome_spec+'_df.csv'\n",
    "df = pd.read_csv(df_file)\n",
    "df.set_index(['bblid', 'scanid'], inplace = True)\n",
    "df = df.loc[df['disc_repl'] == 1,:]\n",
    "print(df.shape)\n",
    "\n",
    "n_taylor = 7"
   ]
  },
  {
   "cell_type": "code",
   "execution_count": null,
   "metadata": {},
   "outputs": [],
   "source": [
    "py_script = '/cbica/home/parkesl/research_projects/pfactor_gradients/1_code/cluster/compute_control_energy_taylor_optimized.py'"
   ]
  },
  {
   "cell_type": "code",
   "execution_count": null,
   "metadata": {},
   "outputs": [],
   "source": [
    "# drop_taylor_file = '/cbica/home/parkesl/research_projects/pfactor_gradients/3_output/results/out/Overall_Psychopathology_r_max_corr_taylor.npy'\n",
    "# outputdir = '/cbica/home/parkesl/research_projects/pfactor_gradients/2_pipeline/5_compute_minimum_energy_taylor_optimized/out/'+connectome_spec+'/Overall_Psychopathology'\n",
    "drop_taylor_file = '/cbica/home/parkesl/research_projects/pfactor_gradients/3_output/results/out/Overall_Psychopathology_mprage_antsCT_vol_TBV_dti64MeanRelRMS_r_max_corr_taylor.npy'\n",
    "outputdir = '/cbica/home/parkesl/research_projects/pfactor_gradients/2_pipeline/5_compute_minimum_energy_taylor_optimized/out/'+connectome_spec+'/Overall_Psychopathology_mprage_antsCT_vol_TBV_dti64MeanRelRMS'\n",
    "if not os.path.exists(outputdir): os.makedirs(outputdir)"
   ]
  },
  {
   "cell_type": "code",
   "execution_count": null,
   "metadata": {},
   "outputs": [],
   "source": [
    "for s in np.arange(df.shape[0]):\n",
    "    subjid = str(df.iloc[s].name[0])+'_'+str(df.iloc[s].name[1])\n",
    "    subjid_short = 's'+str(df.iloc[s].name[0])\n",
    "    A_file = indir+connectome_spec+'_'+subjid+'_A.npy'\n",
    "\n",
    "    for T in T_list:\n",
    "        for B_ver in B_list:\n",
    "            subprocess_str = '{0} {1} -subjid {2} -A_file {3} -outputdir {4} -T {5} -B_ver {6} -n_subsamples {7} -n_taylor {8} -drop_taylor_file {9} -gradients_file {10}' \\\n",
    "            .format(py_exec, py_script, subjid, A_file, outputdir, T, B_ver, n_subsamples, n_taylor, drop_taylor_file, gradients_file)\n",
    "\n",
    "            name = subjid_short+'_'+str(T)+B_ver\n",
    "            qsub_call = 'qsub -N {0} -l h_vmem=3G,s_vmem=3G -pe threaded 1 -j y -b y -o /cbica/home/parkesl/sge/ -e /cbica/home/parkesl/sge/ '.format(name)\n",
    "\n",
    "            os.system(qsub_call + subprocess_str)"
   ]
  }
 ],
 "metadata": {
  "kernelspec": {
   "display_name": "Python 3",
   "language": "python",
   "name": "python3"
  },
  "language_info": {
   "codemirror_mode": {
    "name": "ipython",
    "version": 3
   },
   "file_extension": ".py",
   "mimetype": "text/x-python",
   "name": "python",
   "nbconvert_exporter": "python",
   "pygments_lexer": "ipython3",
   "version": "3.7.9"
  }
 },
 "nbformat": 4,
 "nbformat_minor": 4
}
