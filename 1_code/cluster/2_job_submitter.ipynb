{
 "cells": [
  {
   "cell_type": "markdown",
   "metadata": {},
   "source": [
    "# Submit jobs to cubic"
   ]
  },
  {
   "cell_type": "code",
   "execution_count": null,
   "metadata": {},
   "outputs": [],
   "source": [
    "import os\n",
    "import pandas as pd\n",
    "import numpy as np\n",
    "import subprocess\n",
    "import json\n",
    "\n",
    "py_exec = '/cbica/home/parkesl/miniconda3/envs/pfactor_gradients/bin/python'\n",
    "\n",
    "parc_scale = 400\n",
    "connectome_spec = 'schaefer_'+str(parc_scale)+'_streamlineCount'\n",
    "\n",
    "py_script = '/cbica/home/parkesl/research_projects/pfactor_gradients/1_code/cluster/compute_control_energy.py'\n",
    "\n",
    "indir = '/cbica/home/parkesl/research_projects/pfactor_gradients/2_pipeline/0_get_sample/out/'\n",
    "outputdir = '/cbica/home/parkesl/research_projects/pfactor_gradients/2_pipeline/2_compute_energy/out/'+connectome_spec\n",
    "if not os.path.exists(outputdir): os.makedirs(outputdir)\n",
    "\n",
    "# subjids = ['disc_mean_A_s4', 'disc_mean_A_s5', 'disc_mean_A_s6', 'disc_mean_A_s7', 'disc_mean_A_s8']\n",
    "subjids = ['disc_mean_A_s6',]\n",
    "\n",
    "T_list = [1,]; print(T_list)\n",
    "B_list = ['x0xfwb',]; print(B_list)\n",
    "rho_list = [1,]; print(rho_list)\n",
    "n_subsamples = 50\n",
    "\n",
    "gradients_file = '/cbica/home/parkesl/research_projects/pfactor_gradients/2_pipeline/1_compute_gradient/out/'+connectome_spec+'_pnc_grads_template.txt'\n",
    "n_clusters = int(parc_scale/20); print(n_clusters)\n",
    "\n",
    "# control_list = ['minimum', 'minimum_taylor']; print(control_list)\n",
    "control_list = ['minimum',]; print(control_list)\n",
    "\n",
    "split_clusters = False"
   ]
  },
  {
   "cell_type": "markdown",
   "metadata": {},
   "source": [
    "### Submit"
   ]
  },
  {
   "cell_type": "code",
   "execution_count": null,
   "metadata": {},
   "outputs": [],
   "source": [
    "for subjid in subjids:\n",
    "    A_file = indir+connectome_spec+'_'+subjid+'.npy'\n",
    "    for control in control_list:\n",
    "        if control == 'minimum_taylor': mem_amount = '3'\n",
    "        else: mem_amount = '1'\n",
    "        \n",
    "        for T in T_list:\n",
    "            for B_ver in B_list:\n",
    "                if split_clusters == False:\n",
    "                    subprocess_str = '{0} {1} -subjid {2} -A_file {3} -outputdir {4} -control {5} -T {6} -B_ver {7} -n_subsamples {8} -gradients_file {9} -n_clusters {10}' \\\n",
    "                    .format(py_exec, py_script, subjid, A_file, outputdir, control, T, B_ver, n_subsamples, gradients_file, n_clusters)\n",
    "\n",
    "                    name = subjid+'_'+control+str(T)+B_ver\n",
    "                    qsub_call = 'qsub -N {0} -l h_vmem={1}G,s_vmem={1}G -pe threaded 4 -j y -b y -o /cbica/home/parkesl/sge/ -e /cbica/home/parkesl/sge/ '.format(name, mem_amount)\n",
    "\n",
    "                    os.system(qsub_call + subprocess_str)\n",
    "                elif split_clusters == True:\n",
    "                    for i in np.arange(n_clusters):\n",
    "                        for j in np.arange(n_clusters):\n",
    "                            subprocess_str = '{0} {1} -subjid {2} -A_file {3} -outputdir {4} -control {5} -T {6} -B_ver {7} -n_subsamples {8} -gradients_file {9} -n_clusters {10} -i {11} -j {12}' \\\n",
    "                            .format(py_exec, py_script, subjid, A_file, outputdir, control, T, B_ver, n_subsamples, gradients_file, n_clusters, i, j)\n",
    "\n",
    "                            name = subjid+'_'+control+str(T)+B_ver+'_'+str(i)+str(j)\n",
    "                            qsub_call = 'qsub -N {0} -l h_vmem={1}G,s_vmem={1}G -pe threaded 1 -j y -b y -o /cbica/home/parkesl/sge/ -e /cbica/home/parkesl/sge/ '.format(name, mem_amount)\n",
    "\n",
    "                            os.system(qsub_call + subprocess_str)"
   ]
  },
  {
   "cell_type": "markdown",
   "metadata": {},
   "source": [
    "### Assemble outputs"
   ]
  },
  {
   "cell_type": "code",
   "execution_count": null,
   "metadata": {},
   "outputs": [],
   "source": [
    "for subjid in subjids:\n",
    "    for control in control_list:\n",
    "        for T in T_list:\n",
    "            for B_ver in B_list:\n",
    "                file_label = subjid+'_'+control+'_T-'+str(T)+'_B-'+B_ver+'-g'+str(n_clusters)\n",
    "#                 file_label = subjid+'_'+control+'_T-'+str(T)+'_B-'+B_ver+'_rho-'+str(rho)+'-g'+str(n_clusters)\n",
    "\n",
    "                if control == 'minimum_taylor':\n",
    "                    E_tmp = np.load(os.path.join(outputdir,file_label+'_E_00.npy'))\n",
    "                    E = np.zeros((n_clusters, n_clusters, n_subsamples, E_tmp.shape[3]))\n",
    "                else:\n",
    "                    E = np.zeros((n_clusters, n_clusters, n_subsamples))\n",
    "                \n",
    "                for i in np.arange(n_clusters):\n",
    "                    for j in np.arange(n_clusters):\n",
    "                        E[i,j,:] = np.load(os.path.join(outputdir,file_label+'_E_'+str(i)+str(j)+'.npy'))[i,j,:]\n",
    "                \n",
    "                np.save(os.path.join(outputdir,file_label+'_E_ij'), E)"
   ]
  },
  {
   "cell_type": "code",
   "execution_count": null,
   "metadata": {},
   "outputs": [],
   "source": []
  }
 ],
 "metadata": {
  "kernelspec": {
   "display_name": "Python 3",
   "language": "python",
   "name": "python3"
  },
  "language_info": {
   "codemirror_mode": {
    "name": "ipython",
    "version": 3
   },
   "file_extension": ".py",
   "mimetype": "text/x-python",
   "name": "python",
   "nbconvert_exporter": "python",
   "pygments_lexer": "ipython3",
   "version": "3.7.9"
  }
 },
 "nbformat": 4,
 "nbformat_minor": 4
}
