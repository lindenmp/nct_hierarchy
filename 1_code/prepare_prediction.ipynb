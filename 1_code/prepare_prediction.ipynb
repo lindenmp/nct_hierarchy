{
 "cells": [
  {
   "cell_type": "code",
   "execution_count": 1,
   "metadata": {},
   "outputs": [],
   "source": [
    "# Essentials\n",
    "import os, sys, glob\n",
    "import pandas as pd\n",
    "import numpy as np\n",
    "import nibabel as nib\n",
    "import scipy.io as sio\n",
    "from tqdm import tqdm\n",
    "\n",
    "# Stats\n",
    "import scipy as sp\n",
    "from scipy import stats\n",
    "import statsmodels.api as sm\n",
    "import pingouin as pg\n",
    "\n",
    "# Plotting\n",
    "import seaborn as sns\n",
    "import matplotlib.pyplot as plt\n",
    "plt.rcParams['svg.fonttype'] = 'none'"
   ]
  },
  {
   "cell_type": "code",
   "execution_count": 2,
   "metadata": {},
   "outputs": [
    {
     "name": "stderr",
     "output_type": "stream",
     "text": [
      "/Users/lindenmp/opt/anaconda3/envs/pfactor_gradients/lib/python3.7/site-packages/outdated/utils.py:18: OutdatedPackageWarning: The package pingouin is out of date. Your version is 0.3.9, the latest is 0.3.10.\n",
      "Set the environment variable OUTDATED_IGNORE=1 to disable these warnings.\n",
      "  **kwargs\n"
     ]
    }
   ],
   "source": [
    "sys.path.append('/Users/lindenmp/Google-Drive-Penn/work/research_projects/pathlength_tuning/1_code/')\n",
    "from func import set_proj_env, my_get_cmap, rank_int"
   ]
  },
  {
   "cell_type": "code",
   "execution_count": 3,
   "metadata": {},
   "outputs": [
    {
     "data": {
      "text/plain": [
       "('/Users/lindenmp/Google-Drive-Penn/work/research_projects/pfactor_gradients',\n",
       " '/Users/lindenmp/Google-Drive-Penn/work/research_projects/pfactor_gradients/0_data',\n",
       " '/Volumes/work_ssd/research_data/PNC/',\n",
       " '/Users/lindenmp/Google-Drive-Penn/work/research_projects/pfactor_gradients/2_pipeline',\n",
       " '/Users/lindenmp/Google-Drive-Penn/work/research_projects/pfactor_gradients/3_output')"
      ]
     },
     "execution_count": 3,
     "metadata": {},
     "output_type": "execute_result"
    }
   ],
   "source": [
    "parc_str = 'schaefer' # 'schaefer' 'lausanne' 'glasser'\n",
    "parc_scale = 400 # 200/400 | 125/250 | 360\n",
    "edge_weight = 'streamlineCount' # 'streamlineCount' 'volNormStreamline'\n",
    "set_proj_env()"
   ]
  },
  {
   "cell_type": "code",
   "execution_count": 4,
   "metadata": {},
   "outputs": [
    {
     "data": {
      "text/plain": [
       "'schaefer_400_streamlineCount_'"
      ]
     },
     "execution_count": 4,
     "metadata": {},
     "output_type": "execute_result"
    }
   ],
   "source": [
    "# output file prefix\n",
    "outfile_prefix = parc_str+'_'+str(parc_scale)+'_'+edge_weight+'_'\n",
    "outfile_prefix"
   ]
  },
  {
   "cell_type": "markdown",
   "metadata": {},
   "source": [
    "### Setup directory variables"
   ]
  },
  {
   "cell_type": "code",
   "execution_count": 5,
   "metadata": {},
   "outputs": [
    {
     "name": "stdout",
     "output_type": "stream",
     "text": [
      "/Users/lindenmp/Google-Drive-Penn/work/research_projects/pfactor_gradients/2_pipeline\n"
     ]
    }
   ],
   "source": [
    "print(os.environ['PIPELINEDIR'])\n",
    "if not os.path.exists(os.environ['PIPELINEDIR']): os.makedirs(os.environ['PIPELINEDIR'])"
   ]
  },
  {
   "cell_type": "code",
   "execution_count": 6,
   "metadata": {},
   "outputs": [
    {
     "name": "stdout",
     "output_type": "stream",
     "text": [
      "/Users/lindenmp/Google-Drive-Penn/work/research_projects/pfactor_gradients/2_pipeline/6_repl_prediction/store\n",
      "/Users/lindenmp/Google-Drive-Penn/work/research_projects/pfactor_gradients/2_pipeline/6_repl_prediction/out\n"
     ]
    }
   ],
   "source": [
    "storedir = os.path.join(os.environ['PIPELINEDIR'], '6_repl_prediction', 'store')\n",
    "print(storedir)\n",
    "if not os.path.exists(storedir): os.makedirs(storedir)\n",
    "    \n",
    "outputdir = os.path.join(os.environ['PIPELINEDIR'], '6_repl_prediction', 'out')\n",
    "print(outputdir)\n",
    "if not os.path.exists(outputdir): os.makedirs(outputdir)"
   ]
  },
  {
   "cell_type": "code",
   "execution_count": 7,
   "metadata": {},
   "outputs": [
    {
     "name": "stdout",
     "output_type": "stream",
     "text": [
      "/Users/lindenmp/Google-Drive-Penn/work/research_projects/pfactor_gradients/3_output/figs\n"
     ]
    }
   ],
   "source": [
    "figdir = os.path.join(os.environ['OUTPUTDIR'], 'figs')\n",
    "print(figdir)\n",
    "if not os.path.exists(figdir): os.makedirs(figdir)"
   ]
  },
  {
   "cell_type": "markdown",
   "metadata": {},
   "source": [
    "### Parameters"
   ]
  },
  {
   "cell_type": "code",
   "execution_count": 8,
   "metadata": {},
   "outputs": [
    {
     "name": "stdout",
     "output_type": "stream",
     "text": [
      "20\n"
     ]
    }
   ],
   "source": [
    "control_list = ['minimum','minimum_taylor']; control = control_list[0]\n",
    "T_list = [1,]; T = T_list[0]\n",
    "B_list = ['x0xfwb',]; B_ver = B_list[0]\n",
    "\n",
    "num_parcels=parc_scale\n",
    "n_clusters=int(num_parcels*.05)\n",
    "print(n_clusters)\n",
    "n_subsamples = 20"
   ]
  },
  {
   "cell_type": "markdown",
   "metadata": {},
   "source": [
    "#### Get indices of elements"
   ]
  },
  {
   "cell_type": "code",
   "execution_count": 9,
   "metadata": {},
   "outputs": [
    {
     "data": {
      "text/plain": [
       "380"
      ]
     },
     "execution_count": 9,
     "metadata": {},
     "output_type": "execute_result"
    }
   ],
   "source": [
    "# indices = np.triu_indices(n_clusters, k=1)\n",
    "# indices = np.tril_indices(n_clusters, k=-1)\n",
    "indices = np.where(~np.eye(n_clusters,dtype=bool))\n",
    "len(indices[0])"
   ]
  },
  {
   "cell_type": "code",
   "execution_count": 10,
   "metadata": {},
   "outputs": [
    {
     "name": "stdout",
     "output_type": "stream",
     "text": [
      "Overall_Psychopathology\n"
     ]
    }
   ],
   "source": [
    "phenos = ['Overall_Psychopathology','Psychosis_Positive','Psychosis_NegativeDisorg','AnxiousMisery','Externalizing','Fear','F1_Exec_Comp_Res_Accuracy','F3_Executive_Efficiency','Overall_Speed']\n",
    "pheno = phenos[0]\n",
    "print(pheno)"
   ]
  },
  {
   "cell_type": "markdown",
   "metadata": {},
   "source": [
    "### Setup plots"
   ]
  },
  {
   "cell_type": "code",
   "execution_count": 11,
   "metadata": {},
   "outputs": [],
   "source": [
    "if not os.path.exists(figdir): os.makedirs(figdir)\n",
    "os.chdir(figdir)\n",
    "sns.set(style='white', context = 'talk', font_scale = 1)\n",
    "cmap = my_get_cmap('pair')"
   ]
  },
  {
   "cell_type": "markdown",
   "metadata": {},
   "source": [
    "## Load data"
   ]
  },
  {
   "cell_type": "code",
   "execution_count": 12,
   "metadata": {},
   "outputs": [
    {
     "name": "stdout",
     "output_type": "stream",
     "text": [
      "(458, 59)\n"
     ]
    }
   ],
   "source": [
    "df = pd.read_csv(os.path.join(os.environ['PIPELINEDIR'], '0_get_sample', 'out', outfile_prefix+'df.csv'))\n",
    "df.set_index(['bblid', 'scanid'], inplace = True)\n",
    "df = df.loc[df['disc_repl'] == 1,:]\n",
    "print(df.shape)"
   ]
  },
  {
   "cell_type": "markdown",
   "metadata": {},
   "source": [
    "## Energy"
   ]
  },
  {
   "cell_type": "code",
   "execution_count": 13,
   "metadata": {},
   "outputs": [],
   "source": [
    "# subject filter\n",
    "subj_filt = np.zeros((df.shape[0],)).astype(bool)"
   ]
  },
  {
   "cell_type": "code",
   "execution_count": 14,
   "metadata": {},
   "outputs": [
    {
     "name": "stderr",
     "output_type": "stream",
     "text": [
      "  6%|▋         | 29/458 [00:00<00:01, 280.18it/s]"
     ]
    },
    {
     "name": "stdout",
     "output_type": "stream",
     "text": [
      "81754_2740_T-1_B-x0xfwb-g20\n"
     ]
    },
    {
     "name": "stderr",
     "output_type": "stream",
     "text": [
      "100%|██████████| 458/458 [00:01<00:00, 433.50it/s]\n"
     ]
    }
   ],
   "source": [
    "covs = ['mprage_antsCT_vol_TBV', 'dti64MeanRelRMS']\n",
    "\n",
    "E = np.zeros((n_clusters, n_clusters, n_subsamples, df.shape[0]))\n",
    "Eto = np.zeros((n_clusters, n_clusters, n_subsamples, df.shape[0]))\n",
    "\n",
    "for i in tqdm(np.arange(df.shape[0])):\n",
    "    subjid = str(df.iloc[i].name[0])+'_'+str(df.iloc[i].name[1])\n",
    "    file_label = subjid+'_T-'+str(T)+'_B-'+B_ver+'-g'+str(n_clusters)\n",
    "    if i == 0: print(file_label)\n",
    "    \n",
    "    try:\n",
    "        E[:,:,:,i] = np.load(os.path.join(os.environ['PIPELINEDIR'], '5_compute_minimum_energy_taylor_optimized', 'out', outfile_prefix[:-1], pheno+'_'+'_'.join(covs),\n",
    "                                          file_label+'_E.npy'))\n",
    "        \n",
    "        Eto[:,:,:,i] = np.load(os.path.join(os.environ['PIPELINEDIR'], '5_compute_minimum_energy_taylor_optimized', 'out', outfile_prefix[:-1], pheno+'_'+'_'.join(covs),\n",
    "                                          file_label+'_Eto.npy'))\n",
    "    except:\n",
    "        print(subjid + ': NOT FOUND')\n",
    "        subj_filt[i] = True"
   ]
  },
  {
   "cell_type": "code",
   "execution_count": 15,
   "metadata": {},
   "outputs": [
    {
     "data": {
      "text/plain": [
       "0"
      ]
     },
     "execution_count": 15,
     "metadata": {},
     "output_type": "execute_result"
    }
   ],
   "source": [
    "np.sum(subj_filt)"
   ]
  },
  {
   "cell_type": "code",
   "execution_count": 16,
   "metadata": {},
   "outputs": [],
   "source": [
    "if any(subj_filt):\n",
    "    E = E[:,:,:,~subj_filt]\n",
    "    Eto = Eto[:,:,:,~subj_filt]\n",
    "    df = df.loc[~subj_filt]"
   ]
  },
  {
   "cell_type": "code",
   "execution_count": 17,
   "metadata": {},
   "outputs": [
    {
     "name": "stdout",
     "output_type": "stream",
     "text": [
      "(20, 20, 458)\n",
      "(20, 20, 458)\n"
     ]
    }
   ],
   "source": [
    "# mean over subsamples\n",
    "E = np.mean(E, axis = 2)\n",
    "Eto = np.mean(Eto, axis = 2)\n",
    "print(E.shape)\n",
    "print(Eto.shape)"
   ]
  },
  {
   "cell_type": "markdown",
   "metadata": {},
   "source": [
    "## Normalize"
   ]
  },
  {
   "cell_type": "code",
   "execution_count": 18,
   "metadata": {},
   "outputs": [
    {
     "name": "stderr",
     "output_type": "stream",
     "text": [
      "100%|██████████| 20/20 [00:39<00:00,  1.96s/it]\n"
     ]
    }
   ],
   "source": [
    "# normalize\n",
    "for i in tqdm(np.arange(n_clusters)):\n",
    "    for j in np.arange(n_clusters):\n",
    "        if i != j:\n",
    "            E[i,j,:] = rank_int(pd.Series(data=E[i,j,:])).values\n",
    "            Eto[i,j,:] = rank_int(pd.Series(data=Eto[i,j,:])).values            "
   ]
  },
  {
   "cell_type": "code",
   "execution_count": 19,
   "metadata": {},
   "outputs": [],
   "source": [
    "# Y\n",
    "# df.loc[:,pheno] = rank_int(df.loc[:,pheno])"
   ]
  },
  {
   "cell_type": "code",
   "execution_count": 20,
   "metadata": {},
   "outputs": [
    {
     "data": {
      "text/plain": [
       "<matplotlib.axes._subplots.AxesSubplot at 0x15f123390>"
      ]
     },
     "execution_count": 20,
     "metadata": {},
     "output_type": "execute_result"
    },
    {
     "data": {
      "image/png": "[encoded data removed]",
      "text/plain": [
       "<Figure size 432x288 with 1 Axes>"
      ]
     },
     "metadata": {},
     "output_type": "display_data"
    }
   ],
   "source": [
    "sns.histplot(df[pheno])"
   ]
  },
  {
   "cell_type": "code",
   "execution_count": 21,
   "metadata": {},
   "outputs": [],
   "source": [
    "df['sex_adj'] = df['sex'] - 1\n",
    "covs = ['sex_adj', 'ageAtScan1_Years', 'mprage_antsCT_vol_TBV', 'dti64MeanRelRMS']"
   ]
  },
  {
   "cell_type": "code",
   "execution_count": 22,
   "metadata": {},
   "outputs": [],
   "source": [
    "df.loc[:,'dti64MeanRelRMS'] = rank_int(df.loc[:,'dti64MeanRelRMS'])"
   ]
  },
  {
   "cell_type": "code",
   "execution_count": 23,
   "metadata": {},
   "outputs": [
    {
     "data": {
      "image/png": "[encoded data removed]",
      "text/plain": [
       "<Figure size 1440x720 with 8 Axes>"
      ]
     },
     "metadata": {},
     "output_type": "display_data"
    }
   ],
   "source": [
    "if len(covs) > 0:\n",
    "    f, ax = plt.subplots(2, len(covs), figsize=(len(covs)*5, 10))\n",
    "    \n",
    "    for c, cov in enumerate(covs):\n",
    "        r_cov = np.zeros((n_clusters,n_clusters))\n",
    "        \n",
    "        for i in np.arange(n_clusters):\n",
    "            for j in np.arange(n_clusters):\n",
    "                if i != j:\n",
    "                    r_cov[i,j] = sp.stats.pearsonr(df.loc[:,cov],E[i,j,:])[0]\n",
    "                         \n",
    "        ax[0,c].set_title(cov)\n",
    "        sns.histplot(df.loc[:,cov], ax=ax[0,c])\n",
    "        ax[0,c].set_ylabel('')\n",
    "        ax[0,c].set_xlabel('')\n",
    "        sns.histplot(r_cov[indices], ax=ax[1,c])\n",
    "        ax[1,c].set_xlabel('corr(energy,cov)')\n",
    "        ax[1,c].set_ylabel('')"
   ]
  },
  {
   "cell_type": "markdown",
   "metadata": {},
   "source": [
    "## Save out"
   ]
  },
  {
   "cell_type": "code",
   "execution_count": 24,
   "metadata": {},
   "outputs": [],
   "source": [
    "num_elements = len(indices[0])\n",
    "\n",
    "column_labels = []\n",
    "for i in np.arange(num_elements): column_labels.append('E_i'+str(indices[0][i])+'j'+str(indices[1][i]))\n",
    "df_E = pd.DataFrame(data = E[indices].transpose(), index = df.index, columns = column_labels)\n",
    "\n",
    "column_labels = []\n",
    "for i in np.arange(num_elements): column_labels.append('Eto_i'+str(indices[0][i])+'j'+str(indices[1][i]))\n",
    "df_Eto = pd.DataFrame(data = Eto[indices].transpose(), index = df.index, columns = column_labels)\n",
    "\n",
    "df_X = pd.concat((df_E,df_Eto), axis = 1)"
   ]
  },
  {
   "cell_type": "code",
   "execution_count": 25,
   "metadata": {},
   "outputs": [],
   "source": [
    "# export for prediction models\n",
    "df_X.to_csv(os.path.join(storedir, outfile_prefix+pheno+'_X.csv'))\n",
    "# df_E.to_csv(os.path.join(storedir, outfile_prefix+pheno+'_E.csv'))\n",
    "# df_Eto.to_csv(os.path.join(storedir, outfile_prefix+pheno+'_Eto.csv'))\n",
    "\n",
    "df.loc[:,phenos].to_csv(os.path.join(storedir, outfile_prefix+'y.csv'))\n",
    "\n",
    "covs = ['sex_adj', 'ageAtScan1_Years', 'mprage_antsCT_vol_TBV', 'dti64MeanRelRMS']\n",
    "df.loc[:,covs].to_csv(os.path.join(storedir, outfile_prefix+'c_'+'_'.join(covs)+'.csv'))"
   ]
  }
 ],
 "metadata": {
  "kernelspec": {
   "display_name": "Python 3",
   "language": "python",
   "name": "python3"
  },
  "language_info": {
   "codemirror_mode": {
    "name": "ipython",
    "version": 3
   },
   "file_extension": ".py",
   "mimetype": "text/x-python",
   "name": "python",
   "nbconvert_exporter": "python",
   "pygments_lexer": "ipython3",
   "version": "3.7.9"
  }
 },
 "nbformat": 4,
 "nbformat_minor": 4
}
