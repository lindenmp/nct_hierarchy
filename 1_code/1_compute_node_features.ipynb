{
 "cells": [
  {
   "cell_type": "code",
   "execution_count": 1,
   "metadata": {},
   "outputs": [],
   "source": [
    "# Essentials\n",
    "import os, sys, glob\n",
    "import pandas as pd\n",
    "import numpy as np\n",
    "import nibabel as nib\n",
    "import scipy.io as sio\n",
    "from tqdm import tqdm\n",
    "\n",
    "# Stats\n",
    "import scipy as sp\n",
    "from scipy import stats\n",
    "import statsmodels.api as sm\n",
    "import pingouin as pg\n",
    "\n",
    "# Plotting\n",
    "import seaborn as sns\n",
    "import matplotlib.pyplot as plt\n",
    "plt.rcParams['svg.fonttype'] = 'none'"
   ]
  },
  {
   "cell_type": "code",
   "execution_count": 2,
   "metadata": {},
   "outputs": [],
   "source": [
    "sys.path.append('/Users/lindenmp/Google-Drive-Penn/work/research_projects/pfactor_gradients/1_code/')\n",
    "from func import set_proj_env, rank_int, node_strength"
   ]
  },
  {
   "cell_type": "code",
   "execution_count": 3,
   "metadata": {},
   "outputs": [
    {
     "data": {
      "text/plain": [
       "('/Users/lindenmp/Google-Drive-Penn/work/research_projects/pfactor_gradients',\n",
       " '/Users/lindenmp/Google-Drive-Penn/work/research_projects/pfactor_gradients/0_data',\n",
       " '/Volumes/work_ssd/research_data/PNC/',\n",
       " '/Users/lindenmp/Google-Drive-Penn/work/research_projects/pfactor_gradients/2_pipeline',\n",
       " '/Users/lindenmp/Google-Drive-Penn/work/research_projects/pfactor_gradients/3_output')"
      ]
     },
     "execution_count": 3,
     "metadata": {},
     "output_type": "execute_result"
    }
   ],
   "source": [
    "parc_str = 'schaefer'\n",
    "parc_scale = 200\n",
    "edge_weight = 'streamlineCount'\n",
    "set_proj_env()"
   ]
  },
  {
   "cell_type": "code",
   "execution_count": 4,
   "metadata": {},
   "outputs": [
    {
     "data": {
      "text/plain": [
       "'schaefer_200_streamlineCount_'"
      ]
     },
     "execution_count": 4,
     "metadata": {},
     "output_type": "execute_result"
    }
   ],
   "source": [
    "# output file prefix\n",
    "outfile_prefix = parc_str+'_'+str(parc_scale)+'_'+edge_weight+'_'\n",
    "outfile_prefix"
   ]
  },
  {
   "cell_type": "code",
   "execution_count": 5,
   "metadata": {},
   "outputs": [],
   "source": [
    "# Parcellation specifications\n",
    "if parc_str == 'schaefer':\n",
    "    # Names of parcels\n",
    "    parcel_names = np.genfromtxt(os.path.join(os.environ['PROJDIR'], 'figs_support/labels/schaefer' + str(parc_scale) + 'NodeNames.txt'), dtype='str')\n",
    "    num_parcels = parcel_names.shape[0]\n",
    "    \n",
    "    scdir = os.path.join(os.environ['DERIVSDIR'], 'processedData/diffusion/deterministic_20171118'); os.environ['SCDIR'] = scdir\n",
    "    sc_name_tmp = 'bblid/*xscanid/tractography/connectivity/bblid_*xscanid_SchaeferPNC_' + str(parc_scale) + '_dti_' + edge_weight + '_connectivity.mat'\n",
    "\n",
    "    rstsdir = os.path.join(os.environ['DERIVSDIR'], 'processedData/restbold/restbold_201607151621')\n",
    "    if parc_scale == 200:\n",
    "        rsts_name_tmp = 'bblid/*xscanid/net/Schaefer' + str(parc_scale) + 'PNC/bblid_*xscanid_Schaefer' + str(parc_scale) + 'PNC_ts.1D'\n",
    "    elif parc_scale == 400:\n",
    "        rsts_name_tmp = 'bblid/*xscanid/net/SchaeferPNC/bblid_*xscanid_SchaeferPNC_ts.1D'"
   ]
  },
  {
   "cell_type": "markdown",
   "metadata": {},
   "source": [
    "### Setup directory variables"
   ]
  },
  {
   "cell_type": "code",
   "execution_count": 6,
   "metadata": {},
   "outputs": [
    {
     "name": "stdout",
     "output_type": "stream",
     "text": [
      "/Users/lindenmp/Google-Drive-Penn/work/research_projects/pfactor_gradients/2_pipeline\n"
     ]
    }
   ],
   "source": [
    "print(os.environ['PIPELINEDIR'])\n",
    "if not os.path.exists(os.environ['PIPELINEDIR']): os.makedirs(os.environ['PIPELINEDIR'])"
   ]
  },
  {
   "cell_type": "code",
   "execution_count": 7,
   "metadata": {},
   "outputs": [
    {
     "name": "stdout",
     "output_type": "stream",
     "text": [
      "/Users/lindenmp/Google-Drive-Penn/work/research_projects/pfactor_gradients/2_pipeline/1_compute_node_features/store\n",
      "/Users/lindenmp/Google-Drive-Penn/work/research_projects/pfactor_gradients/2_pipeline/1_compute_node_features/out\n"
     ]
    }
   ],
   "source": [
    "storedir = os.path.join(os.environ['PIPELINEDIR'], '1_compute_node_features', 'store')\n",
    "print(storedir)\n",
    "if not os.path.exists(storedir): os.makedirs(storedir)\n",
    "\n",
    "outputdir = os.path.join(os.environ['PIPELINEDIR'], '1_compute_node_features', 'out')\n",
    "print(outputdir)\n",
    "if not os.path.exists(outputdir): os.makedirs(outputdir)"
   ]
  },
  {
   "cell_type": "code",
   "execution_count": 8,
   "metadata": {},
   "outputs": [
    {
     "name": "stdout",
     "output_type": "stream",
     "text": [
      "/Users/lindenmp/Google-Drive-Penn/work/research_projects/pfactor_gradients/3_output/figs\n"
     ]
    }
   ],
   "source": [
    "figdir = os.path.join(os.environ['OUTPUTDIR'], 'figs')\n",
    "print(figdir)\n",
    "if not os.path.exists(figdir): os.makedirs(figdir)"
   ]
  },
  {
   "cell_type": "markdown",
   "metadata": {},
   "source": [
    "## Load data"
   ]
  },
  {
   "cell_type": "code",
   "execution_count": 9,
   "metadata": {},
   "outputs": [
    {
     "name": "stdout",
     "output_type": "stream",
     "text": [
      "(1100, 58)\n"
     ]
    }
   ],
   "source": [
    "# Load data\n",
    "df = pd.read_csv(os.path.join(os.environ['PIPELINEDIR'], '0_get_sample', 'out', 'df.csv'))\n",
    "df.set_index(['bblid', 'scanid'], inplace = True)\n",
    "print(df.shape)"
   ]
  },
  {
   "cell_type": "code",
   "execution_count": 10,
   "metadata": {},
   "outputs": [],
   "source": [
    "# Missing data file for this subject only for schaefer 200\n",
    "if parc_scale == 200:\n",
    "    df.drop(labels = (112598, 5161), inplace=True)"
   ]
  },
  {
   "cell_type": "code",
   "execution_count": 11,
   "metadata": {},
   "outputs": [
    {
     "name": "stdout",
     "output_type": "stream",
     "text": [
      "(1099, 200)\n"
     ]
    }
   ],
   "source": [
    "# output dataframe\n",
    "str_labels = ['str_' + str(i) for i in range(num_parcels)]\n",
    "\n",
    "df_node = pd.DataFrame(index = df.index, columns = str_labels)\n",
    "print(df_node.shape)"
   ]
  },
  {
   "cell_type": "markdown",
   "metadata": {},
   "source": [
    "## Load in structural connectivity matrices"
   ]
  },
  {
   "cell_type": "code",
   "execution_count": 12,
   "metadata": {},
   "outputs": [],
   "source": [
    "# subject filter\n",
    "subj_filt = np.zeros((df.shape[0],)).astype(bool)"
   ]
  },
  {
   "cell_type": "code",
   "execution_count": 13,
   "metadata": {},
   "outputs": [
    {
     "name": "stdout",
     "output_type": "stream",
     "text": [
      "['/Volumes/work_ssd/research_data/PNC/processedData/diffusion/deterministic_20171118/81287/20100114x2738/tractography/connectivity/81287_20100114x2738_SchaeferPNC_200_dti_streamlineCount_connectivity.mat']\n",
      "82051/*x2856/tractography/connectivity/82051_*x2856_SchaeferPNC_200_dti_streamlineCount_connectivity.mat: NOT FOUND\n",
      "87804/*x3144/tractography/connectivity/87804_*x3144_SchaeferPNC_200_dti_streamlineCount_connectivity.mat: NOT FOUND\n",
      "91332/*x3362/tractography/connectivity/91332_*x3362_SchaeferPNC_200_dti_streamlineCount_connectivity.mat: NOT FOUND\n",
      "87990/*x3676/tractography/connectivity/87990_*x3676_SchaeferPNC_200_dti_streamlineCount_connectivity.mat: NOT FOUND\n",
      "103737/*x3964/tractography/connectivity/103737_*x3964_SchaeferPNC_200_dti_streamlineCount_connectivity.mat: NOT FOUND\n",
      "87470/*x4000/tractography/connectivity/87470_*x4000_SchaeferPNC_200_dti_streamlineCount_connectivity.mat: NOT FOUND\n",
      "104161/*x4104/tractography/connectivity/104161_*x4104_SchaeferPNC_200_dti_streamlineCount_connectivity.mat: NOT FOUND\n",
      "103768/*x4499/tractography/connectivity/103768_*x4499_SchaeferPNC_200_dti_streamlineCount_connectivity.mat: NOT FOUND\n",
      "113216/*x4506/tractography/connectivity/113216_*x4506_SchaeferPNC_200_dti_streamlineCount_connectivity.mat: NOT FOUND\n",
      "90050/*x4746/tractography/connectivity/90050_*x4746_SchaeferPNC_200_dti_streamlineCount_connectivity.mat: NOT FOUND\n",
      "115276/*x5012/tractography/connectivity/115276_*x5012_SchaeferPNC_200_dti_streamlineCount_connectivity.mat: NOT FOUND\n",
      "116618/*x5274/tractography/connectivity/116618_*x5274_SchaeferPNC_200_dti_streamlineCount_connectivity.mat: NOT FOUND\n",
      "127128/*x5545/tractography/connectivity/127128_*x5545_SchaeferPNC_200_dti_streamlineCount_connectivity.mat: NOT FOUND\n",
      "112802/*x6401/tractography/connectivity/112802_*x6401_SchaeferPNC_200_dti_streamlineCount_connectivity.mat: NOT FOUND\n",
      "85397/*x6643/tractography/connectivity/85397_*x6643_SchaeferPNC_200_dti_streamlineCount_connectivity.mat: NOT FOUND\n",
      "83632/*x6818/tractography/connectivity/83632_*x6818_SchaeferPNC_200_dti_streamlineCount_connectivity.mat: NOT FOUND\n",
      "81533/*x6869/tractography/connectivity/81533_*x6869_SchaeferPNC_200_dti_streamlineCount_connectivity.mat: NOT FOUND\n",
      "91025/*x6881/tractography/connectivity/91025_*x6881_SchaeferPNC_200_dti_streamlineCount_connectivity.mat: NOT FOUND\n",
      "105272/*x8238/tractography/connectivity/105272_*x8238_SchaeferPNC_200_dti_streamlineCount_connectivity.mat: NOT FOUND\n"
     ]
    }
   ],
   "source": [
    "A = np.zeros((num_parcels, num_parcels, df.shape[0]))\n",
    "for (i, (index, row)) in enumerate(df.iterrows()):\n",
    "    file_name = sc_name_tmp.replace(\"scanid\", str(index[1]))\n",
    "    file_name = file_name.replace(\"bblid\", str(index[0]))\n",
    "    full_path = glob.glob(os.path.join(scdir, file_name))\n",
    "    if i == 0: print(full_path)\n",
    "    if len(full_path) > 0:\n",
    "        mat_contents = sio.loadmat(full_path[0])\n",
    "        a = mat_contents['connectivity']\n",
    "        if parc_str == 'lausanne' and parc_variant == 'cortex_only':\n",
    "            a = a[parcel_loc == 1,:]\n",
    "            a = a[:,parcel_loc == 1]\n",
    "        A[:,:,i] = a\n",
    "    elif len(full_path) == 0:\n",
    "        print(file_name + ': NOT FOUND')\n",
    "        subj_filt[i] = True\n",
    "        A[:,:,i] = np.full((num_parcels, num_parcels), np.nan)"
   ]
  },
  {
   "cell_type": "code",
   "execution_count": 14,
   "metadata": {},
   "outputs": [
    {
     "data": {
      "text/plain": [
       "19"
      ]
     },
     "execution_count": 14,
     "metadata": {},
     "output_type": "execute_result"
    }
   ],
   "source": [
    "np.sum(subj_filt)"
   ]
  },
  {
   "cell_type": "code",
   "execution_count": 15,
   "metadata": {},
   "outputs": [
    {
     "name": "stdout",
     "output_type": "stream",
     "text": [
      "(1080, 200)\n"
     ]
    }
   ],
   "source": [
    "if any(subj_filt):\n",
    "    A = A[:,:,~subj_filt]\n",
    "    df = df.loc[~subj_filt]\n",
    "    df_node = df_node.loc[~subj_filt]\n",
    "print(df_node.shape)"
   ]
  },
  {
   "cell_type": "markdown",
   "metadata": {},
   "source": [
    "### Check if any subjects have disconnected nodes in A matrix"
   ]
  },
  {
   "cell_type": "code",
   "execution_count": 16,
   "metadata": {},
   "outputs": [],
   "source": [
    "# subject filter\n",
    "subj_filt = np.zeros((df.shape[0],)).astype(bool)"
   ]
  },
  {
   "cell_type": "code",
   "execution_count": 17,
   "metadata": {},
   "outputs": [],
   "source": [
    "for i in range(A.shape[2]):\n",
    "    if np.any(np.sum(A[:,:,i], axis = 1) == 0):\n",
    "        subj_filt[i] = True"
   ]
  },
  {
   "cell_type": "code",
   "execution_count": 18,
   "metadata": {},
   "outputs": [
    {
     "data": {
      "text/plain": [
       "12"
      ]
     },
     "execution_count": 18,
     "metadata": {},
     "output_type": "execute_result"
    }
   ],
   "source": [
    "np.sum(subj_filt)"
   ]
  },
  {
   "cell_type": "code",
   "execution_count": 19,
   "metadata": {},
   "outputs": [
    {
     "name": "stdout",
     "output_type": "stream",
     "text": [
      "(1068, 200)\n"
     ]
    }
   ],
   "source": [
    "if any(subj_filt):\n",
    "    A = A[:,:,~subj_filt]\n",
    "    df = df.loc[~subj_filt]\n",
    "    df_node = df_node.loc[~subj_filt]\n",
    "print(df_node.shape)"
   ]
  },
  {
   "cell_type": "code",
   "execution_count": 20,
   "metadata": {},
   "outputs": [
    {
     "data": {
      "text/plain": [
       "924"
      ]
     },
     "execution_count": 20,
     "metadata": {},
     "output_type": "execute_result"
    }
   ],
   "source": [
    "np.sum(df['averageManualRating'] == 2)"
   ]
  },
  {
   "cell_type": "code",
   "execution_count": 21,
   "metadata": {},
   "outputs": [
    {
     "data": {
      "text/plain": [
       "655"
      ]
     },
     "execution_count": 21,
     "metadata": {},
     "output_type": "execute_result"
    }
   ],
   "source": [
    "np.sum(df['dti64QAManualScore'] == 2)"
   ]
  },
  {
   "cell_type": "markdown",
   "metadata": {},
   "source": [
    "### Get streamline count and network density"
   ]
  },
  {
   "cell_type": "code",
   "execution_count": 22,
   "metadata": {},
   "outputs": [],
   "source": [
    "A_c = np.zeros((A.shape[2],))\n",
    "A_d = np.zeros((A.shape[2],))\n",
    "for i in range(A.shape[2]):\n",
    "    A_c[i] = np.sum(np.triu(A[:,:,i]))\n",
    "    A_d[i] = np.count_nonzero(np.triu(A[:,:,i]))/((A[:,:,i].shape[0]**2-A[:,:,i].shape[0])/2)\n",
    "df.loc[:,'streamline_count'] = A_c\n",
    "df.loc[:,'network_density'] = A_d"
   ]
  },
  {
   "cell_type": "code",
   "execution_count": 23,
   "metadata": {},
   "outputs": [
    {
     "data": {
      "text/plain": [
       "<seaborn.axisgrid.FacetGrid at 0x118b02190>"
      ]
     },
     "execution_count": 23,
     "metadata": {},
     "output_type": "execute_result"
    },
    {
     "data": {
      "image/png": "[encoded data removed]",
      "text/plain": [
       "<Figure size 360x360 with 1 Axes>"
      ]
     },
     "metadata": {
      "needs_background": "light"
     },
     "output_type": "display_data"
    }
   ],
   "source": [
    "sns.displot(df.loc[:,'network_density']*100)"
   ]
  },
  {
   "cell_type": "markdown",
   "metadata": {},
   "source": [
    "### Compute node metrics"
   ]
  },
  {
   "cell_type": "code",
   "execution_count": 24,
   "metadata": {},
   "outputs": [
    {
     "name": "stderr",
     "output_type": "stream",
     "text": [
      "100%|██████████| 1068/1068 [00:00<00:00, 24781.98it/s]\n"
     ]
    }
   ],
   "source": [
    "# fc stored as 3d matrix, subjects of 3rd dim\n",
    "S = np.zeros((df.shape[0], num_parcels))\n",
    "\n",
    "for i in tqdm(np.arange(0,df.shape[0])):\n",
    "    S[i,:] = node_strength(A[:,:,i])\n",
    "\n",
    "df_node.loc[:,str_labels] = S"
   ]
  },
  {
   "cell_type": "markdown",
   "metadata": {},
   "source": [
    "# Save out"
   ]
  },
  {
   "cell_type": "code",
   "execution_count": 25,
   "metadata": {},
   "outputs": [
    {
     "name": "stdout",
     "output_type": "stream",
     "text": [
      "False\n"
     ]
    }
   ],
   "source": [
    "print(df_node.isna().any().any())"
   ]
  },
  {
   "cell_type": "code",
   "execution_count": 26,
   "metadata": {},
   "outputs": [],
   "source": [
    "df.to_csv(os.path.join(storedir, outfile_prefix+'df.csv'))\n",
    "np.save(os.path.join(storedir, outfile_prefix+'A'), A)\n",
    "df_node.to_csv(os.path.join(outputdir, outfile_prefix+'df_node.csv'))"
   ]
  }
 ],
 "metadata": {
  "kernelspec": {
   "display_name": "Python 3",
   "language": "python",
   "name": "python3"
  },
  "language_info": {
   "codemirror_mode": {
    "name": "ipython",
    "version": 3
   },
   "file_extension": ".py",
   "mimetype": "text/x-python",
   "name": "python",
   "nbconvert_exporter": "python",
   "pygments_lexer": "ipython3",
   "version": "3.7.9"
  }
 },
 "nbformat": 4,
 "nbformat_minor": 4
}
